{
 "cells": [
  {
   "cell_type": "markdown",
   "metadata": {},
   "source": [
    "# 1) Find the Largest element in an array"
   ]
  },
  {
   "cell_type": "code",
   "execution_count": 1,
   "metadata": {},
   "outputs": [
    {
     "data": {
      "text/plain": [
       "6"
      ]
     },
     "execution_count": 1,
     "metadata": {},
     "output_type": "execute_result"
    }
   ],
   "source": [
    "lst = [1,2,3,4,5,6]\n",
    "\n",
    "largest_ele = max(lst)\n",
    "largest_ele"
   ]
  },
  {
   "cell_type": "code",
   "execution_count": 2,
   "metadata": {},
   "outputs": [
    {
     "name": "stdout",
     "output_type": "stream",
     "text": [
      "The largest element in the array is: 87\n"
     ]
    }
   ],
   "source": [
    "def find_largest_element(arr):\n",
    "    if not arr:\n",
    "        raise ValueError(\"The array is empty\")\n",
    "    \n",
    "    largest = arr[0]\n",
    "    \n",
    "    for num in arr:\n",
    "        if num > largest:\n",
    "            largest = num\n",
    "            \n",
    "    return largest\n",
    "\n",
    "# Example usage\n",
    "array = [10, 24, 5, 3, 87, 6, 54]\n",
    "largest_element = find_largest_element(array)\n",
    "print(f\"The largest element in the array is: {largest_element}\")\n"
   ]
  },
  {
   "cell_type": "markdown",
   "metadata": {},
   "source": [
    "# 2) Find Second Smallest and Second Largest Element in an array"
   ]
  },
  {
   "cell_type": "code",
   "execution_count": 3,
   "metadata": {},
   "outputs": [
    {
     "name": "stdout",
     "output_type": "stream",
     "text": [
      "Second smallest element is: 2\n",
      "Second largest element is: 43\n"
     ]
    }
   ],
   "source": [
    "def find_second_smallest_largest(lst):\n",
    "    if len(lst)<2 :\n",
    "        raise ValueError(\"Array must have atleast 2 elements\")\n",
    "    \n",
    "    elements = list(set(lst))\n",
    "    \n",
    "    if len(elements) < 2:\n",
    "        raise ValueError(\"Array must have atleast 2 elements\")\n",
    "    \n",
    "    elements.sort()\n",
    "    \n",
    "    second_smallest = elements[1]\n",
    "    second_largest = elements[-2]\n",
    "    \n",
    "    return second_smallest,second_largest\n",
    "\n",
    "arr = [1,2,5,1,2,6,23,87,12,43]\n",
    "\n",
    "second_smallest,second_largest = find_second_smallest_largest(arr)\n",
    "\n",
    "print(f\"Second smallest element is: {second_smallest}\")\n",
    "print(f\"Second largest element is: {second_largest}\")"
   ]
  },
  {
   "cell_type": "markdown",
   "metadata": {},
   "source": [
    "# 3) Check if an Array is Sorted"
   ]
  },
  {
   "cell_type": "code",
   "execution_count": 7,
   "metadata": {},
   "outputs": [
    {
     "data": {
      "text/plain": [
       "False"
      ]
     },
     "execution_count": 7,
     "metadata": {},
     "output_type": "execute_result"
    }
   ],
   "source": [
    "def check_sort(lst):\n",
    "    \n",
    "    for i in range(len(lst)-1):\n",
    "        if lst[i]<lst[i+1]:\n",
    "            i+=1\n",
    "        else:\n",
    "            return False\n",
    "    return True\n",
    "\n",
    "\n",
    "arr = [1,2,3,4,5,6,4]\n",
    "\n",
    "check_sort(arr)"
   ]
  },
  {
   "cell_type": "markdown",
   "metadata": {},
   "source": [
    "# Remove Duplicates in-place from Sorted Array"
   ]
  },
  {
   "cell_type": "code",
   "execution_count": 2,
   "metadata": {},
   "outputs": [
    {
     "name": "stdout",
     "output_type": "stream",
     "text": [
      "Output: 2\n",
      "Modified nums: [1, 2]\n"
     ]
    }
   ],
   "source": [
    "def remove_duplicates(nums):\n",
    "    if not nums:\n",
    "        return 0\n",
    "    \n",
    "    # Initialize the first pointer\n",
    "    i = 0\n",
    "    \n",
    "    for j in range(1, len(nums)):\n",
    "        if nums[j] != nums[i]:\n",
    "            # Increment the first pointer\n",
    "            i += 1\n",
    "            # Update the element at the new position\n",
    "            nums[i] = nums[j]\n",
    "    \n",
    "    # The length of the array without duplicates is i + 1\n",
    "    return i + 1\n",
    "\n",
    "# Example usage:\n",
    "nums = [1, 1, 2]\n",
    "k = remove_duplicates(nums)\n",
    "print(\"Output:\", k)  # Output: 2\n",
    "print(\"Modified nums:\", nums[:k])"
   ]
  },
  {
   "cell_type": "markdown",
   "metadata": {},
   "source": [
    "# Left rotate Array by 1 place"
   ]
  },
  {
   "cell_type": "code",
   "execution_count": 2,
   "metadata": {},
   "outputs": [
    {
     "name": "stdout",
     "output_type": "stream",
     "text": [
      "2 3 4 5 1 "
     ]
    }
   ],
   "source": [
    "def solve(arr, n):\n",
    "    temp = arr[0]  # storing the first element of the array in a variable\n",
    "    for i in range(n-1):\n",
    "        arr[i] = arr[i + 1]\n",
    "    arr[n - 1] = temp  # assign the value of the variable at the last index\n",
    "    for i in range(n):\n",
    "        print(arr[i], end=\" \")\n",
    "\n",
    "\n",
    "arr = [1, 2, 3, 4, 5]\n",
    "n = len(arr)\n",
    "solve(arr, n)\n",
    "\n"
   ]
  },
  {
   "cell_type": "markdown",
   "metadata": {},
   "source": [
    "# To shift by k places"
   ]
  },
  {
   "cell_type": "code",
   "execution_count": 1,
   "metadata": {},
   "outputs": [
    {
     "data": {
      "text/plain": [
       "[3, 4, 5, 1, 2]"
      ]
     },
     "execution_count": 1,
     "metadata": {},
     "output_type": "execute_result"
    }
   ],
   "source": [
    "def shift_k_places(nums,k):\n",
    "    n = len(nums)\n",
    "    nums[:]  = nums[-k:] + nums[:-k] \n",
    "    return nums\n",
    "\n",
    "arr = [1, 2, 3, 4, 5]\n",
    "shift_k_places(arr,3)"
   ]
  },
  {
   "cell_type": "markdown",
   "metadata": {},
   "source": [
    "# Move Zeroes to the end while maintaining the order of original list"
   ]
  },
  {
   "cell_type": "code",
   "execution_count": 4,
   "metadata": {},
   "outputs": [
    {
     "data": {
      "text/plain": [
       "[1, 2, 3, 4, 0, 0]"
      ]
     },
     "execution_count": 4,
     "metadata": {},
     "output_type": "execute_result"
    }
   ],
   "source": [
    "def zeroes(nums):\n",
    "    \n",
    "    non_zero_ele = [num for num in nums if num!=0]\n",
    "    zero = len(nums) - len(non_zero_ele)\n",
    "    non_zero_ele[:] = non_zero_ele + [0]*zero\n",
    "    \n",
    "    return non_zero_ele\n",
    "\n",
    "arr = [1,2,0,3,4,0]\n",
    "zeroes(arr)"
   ]
  },
  {
   "cell_type": "markdown",
   "metadata": {},
   "source": [
    "# Linear Search"
   ]
  },
  {
   "cell_type": "code",
   "execution_count": null,
   "metadata": {},
   "outputs": [],
   "source": [
    "class Solution:\n",
    "    def searchInSorted(self, arr, N, K):\n",
    "        for i in range(N):\n",
    "            if arr[i] == K:\n",
    "                return 1\n",
    "        return -1\n"
   ]
  },
  {
   "cell_type": "markdown",
   "metadata": {},
   "source": [
    "# Binary Search"
   ]
  },
  {
   "cell_type": "code",
   "execution_count": 3,
   "metadata": {},
   "outputs": [
    {
     "data": {
      "text/plain": [
       "1"
      ]
     },
     "execution_count": 3,
     "metadata": {},
     "output_type": "execute_result"
    }
   ],
   "source": [
    "\n",
    "def searchInSorted(arr, N, K):\n",
    "    left, right = 0, N - 1\n",
    "        \n",
    "    while left <= right:\n",
    "        mid = (left + right) // 2\n",
    "            \n",
    "        if arr[mid] == K:\n",
    "            return 1\n",
    "        elif arr[mid] < K:\n",
    "            left = mid + 1\n",
    "        else:\n",
    "            right = mid - 1\n",
    "        \n",
    "    return -1\n",
    "\n",
    "searchInSorted([1,2,4,5,6],5,2)\n"
   ]
  },
  {
   "cell_type": "markdown",
   "metadata": {},
   "source": [
    "List Comprehension"
   ]
  },
  {
   "cell_type": "code",
   "execution_count": null,
   "metadata": {},
   "outputs": [],
   "source": [
    "class Solution:\n",
    "    def searchInSorted(self, arr, N, K):\n",
    "        return 1 if K in arr else -1\n",
    "    \n",
    "'or'\n",
    "\n",
    "class Solution:\n",
    "    def searchInSorted(self, arr, N, K):\n",
    "        # Check if K is in the array using list comprehension\n",
    "        return 1 if K in [x for x in arr] else -1\n"
   ]
  },
  {
   "cell_type": "code",
   "execution_count": 7,
   "metadata": {},
   "outputs": [
    {
     "data": {
      "text/plain": [
       "1"
      ]
     },
     "execution_count": 7,
     "metadata": {},
     "output_type": "execute_result"
    }
   ],
   "source": [
    "arr = [1,2,3,4,5]\n",
    "\n",
    "1 if 5 in [x for x in arr] else -1"
   ]
  },
  {
   "cell_type": "markdown",
   "metadata": {},
   "source": [
    "# Find the Union\n"
   ]
  },
  {
   "cell_type": "code",
   "execution_count": 13,
   "metadata": {},
   "outputs": [
    {
     "name": "stdout",
     "output_type": "stream",
     "text": [
      "Union of arr1 and arr2 is:\n",
      "1 2 3 4 5 6 7 8 9 10 11 12\n"
     ]
    }
   ],
   "source": [
    "def find_union(arr1, arr2):\n",
    "    i, j = 0, 0  # Pointers\n",
    "    union = []  # Union list\n",
    "\n",
    "    while i < len(arr1) and j < len(arr2):\n",
    "        if arr1[i] <= arr2[j]:  # Case 1 and 2\n",
    "            if len(union) == 0 or union[-1] != arr1[i]:\n",
    "                union.append(arr1[i])\n",
    "            i += 1\n",
    "        else:  # Case 3\n",
    "            if len(union) == 0 or union[-1] != arr2[j]:\n",
    "                union.append(arr2[j])\n",
    "            j += 1\n",
    "\n",
    "    while i < len(arr1):  # If any elements left in arr1\n",
    "        if union[-1] != arr1[i]:\n",
    "            union.append(arr1[i])\n",
    "        i += 1\n",
    "\n",
    "    while j < len(arr2):  # If any elements left in arr2\n",
    "        if union[-1] != arr2[j]:\n",
    "            union.append(arr2[j])\n",
    "        j += 1\n",
    "\n",
    "    return union\n",
    "\n",
    "\n",
    "arr1 = [1, 2, 3, 4, 5, 6, 7, 8, 9, 10]\n",
    "arr2 = [2, 3, 4, 4, 5, 11, 12]\n",
    "\n",
    "union = find_union(arr1, arr2)\n",
    "\n",
    "print(\"Union of arr1 and arr2 is:\")\n",
    "print(*union)"
   ]
  },
  {
   "cell_type": "markdown",
   "metadata": {},
   "source": [
    "# Find missing number in an array"
   ]
  },
  {
   "cell_type": "code",
   "execution_count": 15,
   "metadata": {},
   "outputs": [
    {
     "data": {
      "text/plain": [
       "[1, 2, 3, 4, 5, 6, 7]"
      ]
     },
     "execution_count": 15,
     "metadata": {},
     "output_type": "execute_result"
    }
   ],
   "source": [
    "n  = [7,1,2,3,4,5,6]\n",
    "n.sort()\n",
    "n"
   ]
  },
  {
   "cell_type": "code",
   "execution_count": 18,
   "metadata": {},
   "outputs": [
    {
     "data": {
      "text/plain": [
       "4"
      ]
     },
     "execution_count": 18,
     "metadata": {},
     "output_type": "execute_result"
    }
   ],
   "source": [
    "from typing import List\n",
    "\n",
    "class Solution:\n",
    "    def missingNumber(self, nums: List[int]) -> int:\n",
    "        n = len(nums)\n",
    "        \n",
    "        # Calculate the expected sum of numbers from 0 to n\n",
    "        expected_sum = n * (n + 1) // 2\n",
    "        \n",
    "        # Calculate the actual sum of the array\n",
    "        actual_sum = sum(nums)\n",
    "        \n",
    "        # The difference between the expected sum and actual sum is the missing number\n",
    "        return expected_sum - actual_sum\n",
    "\n",
    "s = Solution()\n",
    "s.missingNumber([1,2,3,0,5,6,7,8,9])"
   ]
  },
  {
   "cell_type": "markdown",
   "metadata": {},
   "source": [
    "# Find maximum consecutive ones"
   ]
  },
  {
   "cell_type": "code",
   "execution_count": 19,
   "metadata": {},
   "outputs": [
    {
     "name": "stdout",
     "output_type": "stream",
     "text": [
      "The maximum  consecutive 1's are 3\n"
     ]
    }
   ],
   "source": [
    "class Solution:\n",
    "    def findMaxConsecutiveOnes(self, nums: List[int]) -> int:\n",
    "        cnt = 0\n",
    "        maxi = 0\n",
    "        for i in range(len(nums)):\n",
    "            if nums[i] == 1:\n",
    "                cnt += 1\n",
    "            else:\n",
    "                cnt = 0\n",
    "            maxi = max(maxi, cnt)\n",
    "        return maxi\n",
    "\n",
    "\n",
    "\n",
    "\n",
    "if __name__ == \"__main__\":\n",
    "    nums = [1, 1, 0, 1, 1, 1]\n",
    "    obj = Solution()\n",
    "    ans = obj.findMaxConsecutiveOnes(nums)\n",
    "    print(\"The maximum  consecutive 1's are\", ans)"
   ]
  },
  {
   "cell_type": "markdown",
   "metadata": {},
   "source": [
    "## Finding the Unique Number in an Array\n",
    "\n",
    "To find the number that appears exactly once in an array where all other numbers appear exactly twice, the most optimal approach is to use the XOR operation. This method has a time complexity of $O(n)$ and a space complexity of $O(1)$, making it very efficient.\n",
    "\n",
    "### Why XOR Works\n",
    "\n",
    "The XOR operation has the following properties:\n",
    "\n",
    "1. **XOR of a number with itself is 0**: $a \\oplus a = 0$\n",
    "2. **XOR of a number with 0 is the number itself**: $a \\oplus 0 = a$\n",
    "3. **XOR is commutative and associative**: The order in which XOR operations are performed does not affect the result.\n",
    "\n",
    "These properties allow us to find the unique number by XORing all the numbers in the array. The numbers that appear twice will cancel each other out because $a \\oplus a = 0$. The result will be the number that appears only once.\n"
   ]
  },
  {
   "cell_type": "code",
   "execution_count": 20,
   "metadata": {},
   "outputs": [
    {
     "data": {
      "text/plain": [
       "2"
      ]
     },
     "execution_count": 20,
     "metadata": {},
     "output_type": "execute_result"
    }
   ],
   "source": [
    "from typing import List\n",
    "\n",
    "class Solution:\n",
    "    def singleNumber(self, nums: List[int]) -> int:\n",
    "        result = 0\n",
    "        for num in nums:\n",
    "            result ^= num\n",
    "        return result\n",
    "\n",
    "s = Solution()\n",
    "s.singleNumber([1,2,3,4,4,3,1])"
   ]
  },
  {
   "cell_type": "markdown",
   "metadata": {},
   "source": [
    "# Longest Subarray with given Sum K(Positives)\n",
    "\n",
    "Example 1:\n",
    "Input Format: N = 3, k = 5, array[] = {2,3,5}\n",
    "Result: 2\n",
    "Explanation: The longest subarray with sum 5 is {2, 3}. And its length is 2.\n",
    "\n",
    "Example 2:\n",
    "Input Format: N = 5, k = 10, array[] = {2,3,5,1,9}\n",
    "Result: 3\n",
    "Explanation: The longest subarray with sum 10 is {2, 3, 5}. And its length is 3."
   ]
  },
  {
   "cell_type": "code",
   "execution_count": 6,
   "metadata": {},
   "outputs": [
    {
     "name": "stdout",
     "output_type": "stream",
     "text": [
      "2\n",
      "3\n"
     ]
    }
   ],
   "source": [
    "def longest_subarray_with_sum_k(arr, n, k):\n",
    "    start = 0\n",
    "    current_sum = 0\n",
    "    max_length = 0\n",
    "    \n",
    "    for end in range(n):\n",
    "        current_sum += arr[end]\n",
    "        \n",
    "        # Shrink the window as long as current_sum exceeds k\n",
    "        while current_sum > k and start <= end:\n",
    "            current_sum -= arr[start]\n",
    "            start += 1\n",
    "        \n",
    "        # Check if the current window's sum is equal to k\n",
    "        if current_sum == k:\n",
    "            max_length = max(max_length, end - start + 1)\n",
    "    \n",
    "    return max_length\n",
    "\n",
    "# Example 1\n",
    "N = 3\n",
    "k = 5\n",
    "array = [2, 3, 5]\n",
    "print(longest_subarray_with_sum_k(array, N, k))  # Output: 2\n",
    "\n",
    "# Example 2\n",
    "N = 5\n",
    "k = 10\n",
    "array = [2, 3, 5, 2, 9]\n",
    "print(longest_subarray_with_sum_k(array, N, k))  # Output: 3\n"
   ]
  },
  {
   "cell_type": "markdown",
   "metadata": {},
   "source": []
  },
  {
   "cell_type": "code",
   "execution_count": 12,
   "metadata": {},
   "outputs": [
    {
     "name": "stdout",
     "output_type": "stream",
     "text": [
      "The length of the longest subarray is: 3\n"
     ]
    }
   ],
   "source": [
    "def getLongestSubarray(a: [int], k: int) -> int:\n",
    "    n = len(a) # size of the array.\n",
    "\n",
    "    preSumMap = {}\n",
    "    Sum = 0\n",
    "    maxLen = 0\n",
    "    for i in range(n):\n",
    "        # calculate the prefix sum till index i:\n",
    "        Sum += a[i]\n",
    "\n",
    "        # if the sum = k, update the maxLen:\n",
    "        if Sum == k:\n",
    "            maxLen = max(maxLen, i + 1)\n",
    "\n",
    "        # calculate the sum of remaining part i.e. x-k:\n",
    "        rem = Sum - k\n",
    "\n",
    "        # Calculate the length and update maxLen:\n",
    "        if rem in preSumMap:\n",
    "            length = i - preSumMap[rem]\n",
    "            maxLen = max(maxLen, length)\n",
    "\n",
    "        # Finally, update the map checking the conditions:\n",
    "        if Sum not in preSumMap:\n",
    "            preSumMap[Sum] = i\n",
    "\n",
    "    return maxLen\n",
    "\n",
    "if __name__ == \"__main__\":\n",
    "    a = [-1, 1,1]\n",
    "    k = 1\n",
    "    length = getLongestSubarray(a, k)\n",
    "    print(f\"The length of the longest subarray is: {length}\")"
   ]
  }
 ],
 "metadata": {
  "kernelspec": {
   "display_name": "base",
   "language": "python",
   "name": "python3"
  },
  "language_info": {
   "codemirror_mode": {
    "name": "ipython",
    "version": 3
   },
   "file_extension": ".py",
   "mimetype": "text/x-python",
   "name": "python",
   "nbconvert_exporter": "python",
   "pygments_lexer": "ipython3",
   "version": "3.12.4"
  }
 },
 "nbformat": 4,
 "nbformat_minor": 2
}
