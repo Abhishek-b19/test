{
 "cells": [
  {
   "cell_type": "markdown",
   "metadata": {},
   "source": [
    "## Two Sum : Check if a pair with given sum exists in Array\n",
    "\n",
    "\n",
    "**Problem Statement: Given an array of integers arr[] and an integer target.**\n",
    "1st variant: Return YES if there exist two numbers such that their sum is equal to the target. Otherwise, return NO.\n",
    "\n",
    "2nd variant: Return indices of the two numbers such that their sum is equal to the target. Otherwise, we will return {-1, -1}.\n",
    "\n",
    "Note: You are not allowed to use the same element twice. Example: If the target is equal to 6 and num[1] = 3, then nums[1] + nums[1] = target is not a solution."
   ]
  },
  {
   "cell_type": "markdown",
   "metadata": {},
   "source": [
    "Example 1:\n",
    "*Input* *Format*: N = 5, $arr[] = {2,6,5,8,11}, target = 14\n",
    "\n",
    "`Result`: YES (for 1st variant)\n",
    "       [1, 3] (for 2nd variant)\n",
    "\n",
    "**Explanation**: arr[1] + arr[3] = 14. So, the answer is “YES” for the first variant and [1, 3] for 2nd variant.\n",
    "\n",
    "Example 2:\n",
    "*Input* *Format*: N = 5, arr[] = {2,6,5,8,11}, target = 15\n",
    "\n",
    "`Result`: NO (for 1st variant)\n",
    "\t[-1, -1] (for 2nd variant)\n",
    "       \n",
    "**Explanation**: There exist no such two numbers whose sum is equal to the target."
   ]
  },
  {
   "cell_type": "code",
   "execution_count": 1,
   "metadata": {},
   "outputs": [
    {
     "name": "stdout",
     "output_type": "stream",
     "text": [
      "Indices: [0, 1]\n"
     ]
    }
   ],
   "source": [
    "def two_sum(nums, target):\n",
    "    seen = {}\n",
    "    for i, num in enumerate(nums):\n",
    "        remaining = target - num\n",
    "        if remaining in seen:\n",
    "            return [seen[remaining], i]\n",
    "        seen[num] = i\n",
    "    return []\n",
    "\n",
    "# Example usage:\n",
    "nums = [2, 7, 11, 15]\n",
    "target = 9\n",
    "result = two_sum(nums, target)\n",
    "print(\"Indices:\", result)  # Output: Indices: [0, 1]\n"
   ]
  },
  {
   "cell_type": "markdown",
   "metadata": {},
   "source": [
    "**Explanation:**\n",
    "\n",
    "seen is a dictionary that stores the numbers we've encountered and their corresponding indices.\n",
    "\n",
    "As we iterate through the list, for each number, we calculate its complement (i.e., the number that would add to it to reach the target).\n",
    "\n",
    "If the complement is already in the dictionary, we found the two numbers that add up to the target, and we return their indices.\n",
    "\n",
    "If not, we add the current number and its index to the dictionary and continue.\n",
    "\n",
    "This solution runs in \\( O(n) \\) time complexity, where \\( n \\) is the length of the list, making it efficient for large inputs.\n"
   ]
  },
  {
   "cell_type": "markdown",
   "metadata": {},
   "source": [
    "## 2 pointer approach"
   ]
  },
  {
   "cell_type": "code",
   "execution_count": 1,
   "metadata": {},
   "outputs": [
    {
     "name": "stdout",
     "output_type": "stream",
     "text": [
      "Indices: [0, 1]\n"
     ]
    }
   ],
   "source": [
    "def two_sum(nums, target):\n",
    "    left, right = 0, len(nums) - 1\n",
    "    \n",
    "    while left < right:\n",
    "        current_sum = nums[left] + nums[right]\n",
    "        \n",
    "        if current_sum == target:\n",
    "            return [left, right]\n",
    "        elif current_sum < target:\n",
    "            left += 1  # Move the left pointer to the right to increase the sum\n",
    "        else:\n",
    "            right -= 1  # Move the right pointer to the left to decrease the sum\n",
    "    \n",
    "    return []\n",
    "\n",
    "# Example usage:\n",
    "nums = [2, 7, 11, 15]\n",
    "target = 9\n",
    "result = two_sum(nums, target)\n",
    "print(\"Indices:\", result)  # Output: Indices: [0, 1]\n"
   ]
  },
  {
   "cell_type": "markdown",
   "metadata": {},
   "source": [
    "### Explanation:\n",
    "\n",
    "**Initialization**: Start with two pointers, `left` at the beginning of the array (index 0) and `right` at the end of the array (index `n-1`).\n",
    "\n",
    "**Loop**:\n",
    "\n",
    "1. Calculate the sum of the numbers at the two pointers.\n",
    "2. If the sum equals the target, return the indices of these two pointers.\n",
    "3. If the sum is less than the target, move the left pointer one step to the right to increase the sum.\n",
    "4. If the sum is greater than the target, move the right pointer one step to the left to decrease the sum.\n",
    "\n",
    "**Termination**: The loop continues until the pointers meet, meaning there are no more pairs to check.\n",
    "\n",
    "### Complexity:\n",
    "\n",
    "- **Time Complexity**: \\(O(n)\\), where \\(n\\) is the number of elements in the array.\n",
    "- **Space Complexity**: \\(O(1)\\), since no extra space is used other than the pointers.\n",
    "\n",
    "This approach is efficient and works well for sorted arrays.\n"
   ]
  },
  {
   "cell_type": "markdown",
   "metadata": {},
   "source": [
    "---"
   ]
  },
  {
   "cell_type": "markdown",
   "metadata": {},
   "source": [
    "## Sort an array of 0s, 1s and 2s\n",
    "\n",
    "Problem Statement: Given an array consisting of only `0s, 1s, and 2s`. Write a program to in-place sort the array `without using inbuilt sort functions.` ( Expected: Single pass-O(N) and constant space)"
   ]
  },
  {
   "cell_type": "markdown",
   "metadata": {},
   "source": [
    "**Input** ->  nums = [2,0,2,1,1,0]\n",
    "\n",
    "**Output** ->  [0,0,1,1,2,2]"
   ]
  },
  {
   "cell_type": "code",
   "execution_count": 1,
   "metadata": {},
   "outputs": [
    {
     "name": "stdout",
     "output_type": "stream",
     "text": [
      "After sorting:\n",
      "0 0 1 1 2 2 \n"
     ]
    }
   ],
   "source": [
    "\n",
    "def sortArray(arr):\n",
    "    low = 0\n",
    "    mid = 0\n",
    "    high = len(arr) - 1\n",
    "\n",
    "    while mid <= high:\n",
    "        if arr[mid] == 0:\n",
    "            arr[low], arr[mid] = arr[mid], arr[low]\n",
    "            low += 1\n",
    "            mid += 1\n",
    "        elif arr[mid] == 1:\n",
    "            mid += 1\n",
    "        else:\n",
    "            arr[mid], arr[high] = arr[high], arr[mid]\n",
    "            high -= 1\n",
    "\n",
    "n = 6\n",
    "arr = [0, 2, 1, 2, 0, 1]\n",
    "sortArray(arr)\n",
    "print(\"After sorting:\")\n",
    "for num in arr:\n",
    "    print(num, end=\" \")\n",
    "print()\n",
    "\n"
   ]
  },
  {
   "cell_type": "markdown",
   "metadata": {},
   "source": [
    "### Approach:\n",
    "\n",
    "**Note:** In this tutorial, we will work based on the value of the `mid` pointer.\n",
    "\n",
    "The steps will be as follows:\n",
    "\n",
    "1. First, we will run a loop that will continue until `mid <= high`.\n",
    "\n",
    "2. There can be three different values of `arr[mid]`:\n",
    "\n",
    "    - **If `arr[mid] == 0`**:\n",
    "        - We will swap `arr[low]` and `arr[mid]`.\n",
    "        - Increment both `low` and `mid`.\n",
    "        - Now, the subarray from index `0` to `(low-1)` only contains `0`.\n",
    "    \n",
    "    - **If `arr[mid] == 1`**:\n",
    "        - We will just increment the `mid` pointer.\n",
    "        - Now, the index `(mid-1)` will point to `1` as it should according to the rules.\n",
    "    \n",
    "    - **If `arr[mid] == 2`**:\n",
    "        - We will swap `arr[mid]` and `arr[high]`.\n",
    "        - Decrement `high`.\n",
    "        - Now, the subarray from index `high+1` to `(n-1)` only contains `2`.\n",
    "        - In this step, we will do nothing to the `mid` pointer, as even after swapping, the subarray from `mid` to `high` (after decrementing `high`) might be unsorted. So, we will check the value of `mid` again in the next iteration.\n",
    "\n",
    "3. Finally, our array should be sorted.\n"
   ]
  },
  {
   "cell_type": "markdown",
   "metadata": {},
   "source": [
    "---"
   ]
  },
  {
   "cell_type": "markdown",
   "metadata": {},
   "source": [
    "## Find the Majority Element that occurs more than N/2 times\n",
    "\n",
    "Problem Statement: Given an array of `N integers`, write a program to return an element that occurs more than `N/2 times` in the given array. You may consider that such an element always exists in the array."
   ]
  },
  {
   "cell_type": "markdown",
   "metadata": {},
   "source": [
    "Example 1:\n",
    "\n",
    "$ Input : N = 3, nums[] = {3,2,3} $\n",
    "\n",
    "Result: 3"
   ]
  },
  {
   "cell_type": "code",
   "execution_count": 11,
   "metadata": {},
   "outputs": [
    {
     "data": {
      "text/plain": [
       "3"
      ]
     },
     "execution_count": 11,
     "metadata": {},
     "output_type": "execute_result"
    }
   ],
   "source": [
    "def count_majority(arr):\n",
    "    dict1 = dict()\n",
    "    for i in arr:\n",
    "        if i in dict1.keys():\n",
    "            dict1[i]+=1\n",
    "        else:\n",
    "            dict1[i] = 1\n",
    "    \n",
    "    for key,value in dict1.items():\n",
    "        if value > len(arr)/2:\n",
    "            return key\n",
    "    \n",
    "\n",
    "\n",
    "\n",
    "\n",
    "\n",
    "nums = [3,2,3]\n",
    "count_majority(nums)"
   ]
  },
  {
   "cell_type": "markdown",
   "metadata": {},
   "source": [
    "---"
   ]
  },
  {
   "cell_type": "markdown",
   "metadata": {},
   "source": [
    "### Kadane's Algorithm : Maximum Subarray Sum in an Array\n",
    "\n",
    "Problem Statement: Given an integer array arr, find the contiguous subarray (containing at least one number) which\n",
    "has the largest sum and returns its sum and prints the subarray."
   ]
  },
  {
   "cell_type": "markdown",
   "metadata": {},
   "source": [
    "Example 1:\n",
    "Input: \n",
    "\n",
    "$ arr = [-2,1,-3,4,-1,2,1,-5,4] $ \n",
    "\n",
    "Output:\n",
    "$ 6 $"
   ]
  },
  {
   "cell_type": "code",
   "execution_count": 1,
   "metadata": {},
   "outputs": [
    {
     "name": "stdout",
     "output_type": "stream",
     "text": [
      "The maximum subarray sum is: 6\n"
     ]
    }
   ],
   "source": [
    "import sys\n",
    "\n",
    "def maxSubarraySum(arr, n):\n",
    "    maxi = -sys.maxsize-1 # maximum sum\n",
    "    sum = 0\n",
    "\n",
    "    for i in range(n):\n",
    "        sum += arr[i]\n",
    "\n",
    "        if sum > maxi:\n",
    "            maxi = sum\n",
    "\n",
    "        # If sum < 0: discard the sum calculated\n",
    "        if sum < 0:\n",
    "            sum = 0\n",
    "\n",
    "    # To consider the sum of the empty subarray\n",
    "    # uncomment the following check:\n",
    "\n",
    "    #if maxi < 0: maxi = 0\n",
    "\n",
    "    return maxi\n",
    "\n",
    "arr = [-2, 1, -3, 4, -1, 2, 1, -5, 4]\n",
    "n = len(arr)\n",
    "maxSum = maxSubarraySum(arr, n)\n",
    "print(\"The maximum subarray sum is:\", maxSum)"
   ]
  },
  {
   "cell_type": "markdown",
   "metadata": {},
   "source": [
    "---"
   ]
  },
  {
   "cell_type": "markdown",
   "metadata": {},
   "source": [
    "## Rearrange Array Elements by Sign\n",
    "\n",
    "Problem Statement:\n",
    "\n",
    "There’s an array ‘A’ of size ‘N’ with an equal number of positive and negative elements. Without altering the relative order of positive and negative elements, you must return an array of alternately positive and negative values.\n",
    "\n",
    "Note: Start the array with positive elements.\n",
    "\n",
    "Example 1:\n",
    "\n",
    "Input:\n",
    "arr[] = {1,2,-4,-5}, N = 4\n",
    "\n",
    "Output:\n",
    "1 -4 2 -5\n",
    "\n",
    "\n",
    "Explanation: \n",
    "\n",
    "Positive elements = 1,2\n",
    "\n",
    "Negative elements = -4,-5\n",
    "\n",
    "To maintain relative ordering, 1 must occur before 2, and -4 must occur before -5."
   ]
  },
  {
   "cell_type": "code",
   "execution_count": 2,
   "metadata": {},
   "outputs": [
    {
     "name": "stdout",
     "output_type": "stream",
     "text": [
      "[1, -4, 2, -5]\n"
     ]
    }
   ],
   "source": [
    "from typing import List\n",
    "\n",
    "def RearrangebySign(A: List[int]) -> List[int]:\n",
    "    n = len(A)\n",
    "    \n",
    "    # Define array for storing the ans separately.\n",
    "    ans = [0] * n\n",
    "    \n",
    "    # positive elements start from 0 and negative from 1.\n",
    "    posIndex, negIndex = 0, 1\n",
    "    for i in range(n):\n",
    "        \n",
    "        # Fill negative elements in odd indices and inc by 2.\n",
    "        if A[i] < 0:\n",
    "            ans[negIndex] = A[i]\n",
    "            negIndex += 2\n",
    "        \n",
    "        # Fill positive elements in even indices and inc by 2.\n",
    "        else:\n",
    "            ans[posIndex] = A[i]\n",
    "            posIndex += 2\n",
    "    \n",
    "    return ans\n",
    "    \n",
    "# Test the function\n",
    "A = [1,2,-4,-5]\n",
    "ans = RearrangebySign(A)\n",
    "print(ans)"
   ]
  },
  {
   "cell_type": "markdown",
   "metadata": {},
   "source": [
    "---"
   ]
  },
  {
   "cell_type": "markdown",
   "metadata": {},
   "source": [
    "## next_permutation : find next lexicographically greater permutation\n",
    "\n",
    "Problem Statement: Given an array Arr[] of integers, rearrange the numbers of the given array into the lexicographically next greater permutation of numbers.\n",
    "\n",
    "If such an arrangement is not possible, it must rearrange to the lowest possible order (i.e., sorted in ascending order)."
   ]
  },
  {
   "cell_type": "markdown",
   "metadata": {},
   "source": [
    "Example 1 :\n",
    "\n",
    "Input format:\n",
    "\n",
    " Arr[] = {1,3,2}\n",
    "\n",
    "Output\n",
    "\n",
    ": Arr[] = {2,1,3}\n",
    "\n",
    "Explanation: \n",
    "\n",
    " All permutations of {1,2,3} are {{1,2,3} , {1,3,2}, {2,13} , {2,3,1} , {3,1,2} , {3,2,1}}. So, the next permutation just after {1,3,2} is {2,1,3}. "
   ]
  },
  {
   "cell_type": "code",
   "execution_count": 3,
   "metadata": {},
   "outputs": [
    {
     "name": "stdout",
     "output_type": "stream",
     "text": [
      "The next permutation is: [2 3 0 0 1 4 5 ]\n"
     ]
    }
   ],
   "source": [
    "from typing import List\n",
    "\n",
    "def nextGreaterPermutation(A: List[int]) -> List[int]:\n",
    "    n = len(A) # size of the array.\n",
    "\n",
    "    # Step 1: Find the break point:\n",
    "    ind = -1 # break point\n",
    "    for i in range(n-2, -1, -1):\n",
    "        if A[i] < A[i + 1]:\n",
    "            # index i is the break point\n",
    "            ind = i\n",
    "            break\n",
    "\n",
    "    # If break point does not exist:\n",
    "    if ind == -1:\n",
    "        # reverse the whole array:\n",
    "        A.reverse()\n",
    "        return A\n",
    "\n",
    "    # Step 2: Find the next greater element\n",
    "    #         and swap it with arr[ind]:\n",
    "    for i in range(n - 1, ind, -1):\n",
    "        if A[i] > A[ind]:\n",
    "            A[i], A[ind] = A[ind], A[i]\n",
    "            break\n",
    "\n",
    "    # Step 3: reverse the right half:\n",
    "    A[ind+1:] = reversed(A[ind+1:])\n",
    "\n",
    "    return A\n",
    "\n",
    "if __name__ == \"__main__\":\n",
    "    A = [2, 1, 5, 4, 3, 0, 0]\n",
    "    ans = nextGreaterPermutation(A)\n",
    "\n",
    "    print(\"The next permutation is: [\", end=\"\")\n",
    "    for it in ans:\n",
    "        print(it, end=\" \")\n",
    "    print(\"]\")"
   ]
  },
  {
   "cell_type": "markdown",
   "metadata": {},
   "source": [
    "---"
   ]
  },
  {
   "cell_type": "markdown",
   "metadata": {},
   "source": [
    "# Leaders in an Array\n",
    "\n",
    "Problem Statement: Given an array, print all the elements which are leaders. A Leader is an element that is greater than all of the elements on its right side in the array.\n",
    "\n",
    "Examples\n",
    "Example 1:\n",
    "Input:\n",
    "\n",
    " arr = [4, 7, 1, 0]\n",
    "Output\n",
    ":\n",
    " 7 1 0\n",
    "Explanation:\n",
    "\n",
    " Rightmost element is always a leader. 7 and 1 are greater than the elements in their right side."
   ]
  },
  {
   "cell_type": "markdown",
   "metadata": {},
   "source": [
    "**Explanation:**\n",
    "\n",
    "The first element, 4, is not a leader because 7 is to its right and is greater than 4.\n",
    "\n",
    "The element 7 is a leader because no element to its right is greater than 7.\n",
    "\n",
    "The element 1 is a leader because no element to its right is greater than 1.\n",
    "\n",
    "The element 0 is always a leader because there are no elements to its right."
   ]
  },
  {
   "cell_type": "code",
   "execution_count": 4,
   "metadata": {},
   "outputs": [
    {
     "name": "stdout",
     "output_type": "stream",
     "text": [
      "[7, 1, 0]\n"
     ]
    }
   ],
   "source": [
    "def find_leaders(arr):\n",
    "    n = len(arr)\n",
    "    leaders = []  # List to store leader elements\n",
    "    max_from_right = arr[-1]  # The rightmost element is always a leader\n",
    "    leaders.append(max_from_right)\n",
    "    \n",
    "    # Traverse the array from second-last element to the first element\n",
    "    for i in range(n-2, -1, -1):\n",
    "        if arr[i] > max_from_right:\n",
    "            leaders.append(arr[i])\n",
    "            max_from_right = arr[i]  # Update the maximum\n",
    "    \n",
    "    # The leaders are collected from right to left, so reverse the list to get correct order\n",
    "    leaders.reverse()\n",
    "    \n",
    "    return leaders\n",
    "\n",
    "# Example Usage\n",
    "arr = [4, 7, 1, 0]\n",
    "print(find_leaders(arr))  # Output: [7, 1, 0]\n"
   ]
  },
  {
   "cell_type": "markdown",
   "metadata": {},
   "source": [
    "---"
   ]
  }
 ],
 "metadata": {
  "kernelspec": {
   "display_name": "base",
   "language": "python",
   "name": "python3"
  },
  "language_info": {
   "codemirror_mode": {
    "name": "ipython",
    "version": 3
   },
   "file_extension": ".py",
   "mimetype": "text/x-python",
   "name": "python",
   "nbconvert_exporter": "python",
   "pygments_lexer": "ipython3",
   "version": "3.12.4"
  }
 },
 "nbformat": 4,
 "nbformat_minor": 2
}
