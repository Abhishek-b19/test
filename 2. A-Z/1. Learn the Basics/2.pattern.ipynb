{
 "cells": [
  {
   "cell_type": "markdown",
   "metadata": {},
   "source": [
    "# Pattern"
   ]
  },
  {
   "cell_type": "code",
   "execution_count": 8,
   "metadata": {},
   "outputs": [
    {
     "name": "stdout",
     "output_type": "stream",
     "text": [
      "* * * * * \n",
      "* * * * * \n",
      "* * * * * \n",
      "* * * * * \n",
      "* * * * * \n"
     ]
    }
   ],
   "source": [
    "for i in range(5):\n",
    "    for j in range(5):\n",
    "        print(\"*\", end=\" \")\n",
    "    print()\n"
   ]
  },
  {
   "cell_type": "code",
   "execution_count": 9,
   "metadata": {},
   "outputs": [
    {
     "name": "stdout",
     "output_type": "stream",
     "text": [
      "* \n",
      "* * \n",
      "* * * \n",
      "* * * * \n",
      "* * * * * \n",
      "* * * * * * \n"
     ]
    }
   ],
   "source": [
    "N = 6\n",
    "\n",
    "for i in range(1, N + 1):\n",
    "    for j in range(i):\n",
    "        print(\"*\", end=\" \")\n",
    "    print()\n"
   ]
  },
  {
   "cell_type": "code",
   "execution_count": 10,
   "metadata": {},
   "outputs": [
    {
     "name": "stdout",
     "output_type": "stream",
     "text": [
      "1 \n",
      "1 2 \n",
      "1 2 3 \n",
      "1 2 3 4 \n",
      "1 2 3 4 5 \n",
      "1 2 3 4 5 6 \n"
     ]
    }
   ],
   "source": [
    "N = 6\n",
    "\n",
    "for i in range(1, N + 1):\n",
    "    for j in range(1, i + 1):\n",
    "        print(j, end=\" \")\n",
    "    print()\n"
   ]
  },
  {
   "cell_type": "code",
   "execution_count": 11,
   "metadata": {},
   "outputs": [
    {
     "name": "stdout",
     "output_type": "stream",
     "text": [
      "1 \n",
      "2 2 \n",
      "3 3 3 \n",
      "4 4 4 4 \n",
      "5 5 5 5 5 \n",
      "6 6 6 6 6 6 \n"
     ]
    }
   ],
   "source": [
    "N = 6\n",
    "\n",
    "for i in range(1, N + 1):\n",
    "    for j in range(i):\n",
    "        print(i, end=\" \")\n",
    "    print()\n"
   ]
  },
  {
   "cell_type": "code",
   "execution_count": 12,
   "metadata": {},
   "outputs": [
    {
     "name": "stdout",
     "output_type": "stream",
     "text": [
      "*  *  *  *  *  *  \n",
      "*  *  *  *  *  \n",
      "*  *  *  *  \n",
      "*  *  *  \n",
      "*  *  \n",
      "*  \n"
     ]
    }
   ],
   "source": [
    "N = 6\n",
    "\n",
    "for i in range(N, 0, -1):\n",
    "    for j in range(i):\n",
    "        print(\"* \", end=\" \")\n",
    "    print()\n"
   ]
  },
  {
   "cell_type": "code",
   "execution_count": 13,
   "metadata": {},
   "outputs": [
    {
     "name": "stdout",
     "output_type": "stream",
     "text": [
      "1 2 3 4 5 \n",
      "1 2 3 4 \n",
      "1 2 3 \n",
      "1 2 \n",
      "1 \n"
     ]
    }
   ],
   "source": [
    "n=5\n",
    "for i in range(1,n+1):\n",
    "    for j in range(n-i+1):\n",
    "        print(f'{j+1} ',end = '')\n",
    "    print()\n"
   ]
  },
  {
   "cell_type": "code",
   "execution_count": 18,
   "metadata": {},
   "outputs": [
    {
     "name": "stdout",
     "output_type": "stream",
     "text": [
      "    *\n",
      "   ***\n",
      "  *****\n",
      " *******\n",
      "*********\n"
     ]
    }
   ],
   "source": [
    "n =5\n",
    "\n",
    "for i in range(1,n+1):\n",
    "    for j in range(n-i):\n",
    "        print(\" \", end='')\n",
    "    for k in range(2*i-1):\n",
    "        print('*',end = '')\n",
    "    print()"
   ]
  },
  {
   "cell_type": "code",
   "execution_count": 14,
   "metadata": {},
   "outputs": [
    {
     "name": "stdout",
     "output_type": "stream",
     "text": [
      "    *    \n",
      "   ***   \n",
      "  *****  \n",
      " ******* \n",
      "*********\n"
     ]
    }
   ],
   "source": [
    "n = 5\n",
    "for i in range(n):\n",
    "    # Space\n",
    "    for j in range(n-i-1):\n",
    "        print(' ',end = '')\n",
    "    # Star\n",
    "    for k in range(2*i+1):\n",
    "        print('*',end = '')\n",
    "    # Space\n",
    "    for j in range(n-i-1):\n",
    "        print(' ',end = '')\n",
    "    print()\n"
   ]
  },
  {
   "cell_type": "code",
   "execution_count": 15,
   "metadata": {},
   "outputs": [
    {
     "name": "stdout",
     "output_type": "stream",
     "text": [
      "*********\n",
      " ******* \n",
      "  *****  \n",
      "   ***   \n",
      "    *    \n"
     ]
    }
   ],
   "source": [
    "N = 5\n",
    "\n",
    "for i in range(N):\n",
    "    # Print leading spaces\n",
    "    for j in range(i):\n",
    "        print(\" \", end=\"\")\n",
    "    # Print asterisks\n",
    "    for k in range(2 * (N - i) - 1):\n",
    "        print(\"*\", end=\"\")\n",
    "    # Move to the next line\n",
    "    for j in range(i):\n",
    "        print(\" \", end=\"\")\n",
    "    print()\n"
   ]
  },
  {
   "cell_type": "code",
   "execution_count": 16,
   "metadata": {},
   "outputs": [
    {
     "name": "stdout",
     "output_type": "stream",
     "text": [
      "     *\n",
      "    ***\n",
      "   *****\n",
      "  *******\n",
      " *********\n",
      "***********\n",
      "***********\n",
      " *********\n",
      "  *******\n",
      "   *****\n",
      "    ***\n",
      "     *\n"
     ]
    }
   ],
   "source": [
    "N = 6\n",
    "\n",
    "# Upper part of the pattern\n",
    "for i in range(N):\n",
    "    # Print leading spaces\n",
    "    for j in range(N - i - 1):\n",
    "        print(\" \", end=\"\")\n",
    "    # Print asterisks\n",
    "    for k in range(2 * i + 1):\n",
    "        print(\"*\", end=\"\")\n",
    "    # Move to the next line\n",
    "    print()\n",
    "\n",
    "# Lower part of the pattern\n",
    "for i in range(N):\n",
    "    # Print leading spaces\n",
    "    for j in range(i):\n",
    "        print(\" \", end=\"\")\n",
    "    # Print asterisks\n",
    "    for k in range(2 * (N - i) - 1):\n",
    "        print(\"*\", end=\"\")\n",
    "    # Move to the next line\n",
    "    print()\n"
   ]
  },
  {
   "cell_type": "code",
   "execution_count": 17,
   "metadata": {},
   "outputs": [
    {
     "name": "stdout",
     "output_type": "stream",
     "text": [
      "*\n",
      "**\n",
      "***\n",
      "**\n",
      "*\n"
     ]
    }
   ],
   "source": [
    "N = 3\n",
    "\n",
    "for i in range(1, 2 * N):\n",
    "    # Determine the number of stars\n",
    "    stars = i\n",
    "    if i > N:\n",
    "        stars = 2 * N - i\n",
    "    \n",
    "    # Print the stars\n",
    "    for j in range(stars):\n",
    "        print(\"*\", end=\"\")\n",
    "    \n",
    "    # Move to the next line\n",
    "    print()\n"
   ]
  },
  {
   "cell_type": "code",
   "execution_count": 18,
   "metadata": {},
   "outputs": [
    {
     "name": "stdout",
     "output_type": "stream",
     "text": [
      "1\n",
      "01\n",
      "101\n",
      "0101\n",
      "10101\n",
      "010101\n"
     ]
    }
   ],
   "source": [
    "N = 6\n",
    "\n",
    "for i in range(1, N + 1):\n",
    "    for j in range(1, i + 1):\n",
    "        if (i + j) % 2 == 0:\n",
    "            print(\"1\", end=\"\")\n",
    "        else:\n",
    "            print(\"0\", end=\"\")\n",
    "    print()\n"
   ]
  },
  {
   "cell_type": "code",
   "execution_count": 19,
   "metadata": {},
   "outputs": [
    {
     "name": "stdout",
     "output_type": "stream",
     "text": [
      "1    1\n",
      "12  21\n",
      "123321\n"
     ]
    }
   ],
   "source": [
    "N = 3\n",
    "\n",
    "for i in range(1, N + 1):\n",
    "    # Print the left side numbers\n",
    "    for j in range(1, i + 1):\n",
    "        print(j, end=\"\")\n",
    "    \n",
    "    # Print the spaces\n",
    "    for j in range(2 * (N - i)):\n",
    "        print(\" \", end=\"\")\n",
    "    \n",
    "    # Print the right side numbers in reverse\n",
    "    for j in range(i, 0, -1):\n",
    "        print(j, end=\"\")\n",
    "    \n",
    "    # Move to the next line\n",
    "    print()\n"
   ]
  },
  {
   "cell_type": "code",
   "execution_count": 20,
   "metadata": {},
   "outputs": [
    {
     "name": "stdout",
     "output_type": "stream",
     "text": [
      "A \n",
      "A B \n",
      "A B C \n",
      "A B C D \n",
      "A B C D E \n",
      "A B C D E F \n"
     ]
    }
   ],
   "source": [
    "N = 6\n",
    "\n",
    "for i in range(1, N + 1):\n",
    "    for j in range(i):\n",
    "        print(chr(65 + j), end=\" \")\n",
    "    print()\n"
   ]
  },
  {
   "cell_type": "code",
   "execution_count": 21,
   "metadata": {},
   "outputs": [
    {
     "name": "stdout",
     "output_type": "stream",
     "text": [
      "A B C D E F \n",
      "A B C D E \n",
      "A B C D \n",
      "A B C \n",
      "A B \n",
      "A \n"
     ]
    }
   ],
   "source": [
    "N = 6\n",
    "\n",
    "for i in range(N):\n",
    "    for j in range(N - i):\n",
    "        print(chr(65 + j), end=\" \")\n",
    "    print()\n"
   ]
  },
  {
   "cell_type": "code",
   "execution_count": 22,
   "metadata": {},
   "outputs": [
    {
     "name": "stdout",
     "output_type": "stream",
     "text": [
      "A \n",
      "B B \n",
      "C C C \n",
      "D D D D \n",
      "E E E E E \n",
      "F F F F F F \n"
     ]
    }
   ],
   "source": [
    "N = 6\n",
    "\n",
    "for i in range(N):\n",
    "    for j in range(i + 1):\n",
    "        print(chr(65 + i), end=\" \")\n",
    "    print()\n"
   ]
  },
  {
   "cell_type": "code",
   "execution_count": 23,
   "metadata": {},
   "outputs": [
    {
     "name": "stdout",
     "output_type": "stream",
     "text": [
      "************\n",
      "*****  *****\n",
      "****    ****\n",
      "***      ***\n",
      "**        **\n",
      "*          *\n",
      "*          *\n",
      "**        **\n",
      "***      ***\n",
      "****    ****\n",
      "*****  *****\n",
      "************\n"
     ]
    }
   ],
   "source": [
    "def pattern19(N):\n",
    "    # for the upper half of the pattern\n",
    "    \n",
    "    # initial spaces\n",
    "    iniS = 0\n",
    "    for i in range(N):\n",
    "        # for printing the stars in the row\n",
    "        for j in range(1, N - i + 1):\n",
    "            print(\"*\", end=\"\")\n",
    "        \n",
    "        # for printing the spaces in the row\n",
    "        for j in range(iniS):\n",
    "            print(\" \", end=\"\")\n",
    "        \n",
    "        # for printing the stars in the row\n",
    "        for j in range(1, N - i + 1):\n",
    "            print(\"*\", end=\"\")\n",
    "        \n",
    "        # The spaces increase by 2 every time we hit a new row\n",
    "        iniS += 2\n",
    "        \n",
    "        # Move to the next row\n",
    "        print()\n",
    "    \n",
    "    # for the lower half of the pattern\n",
    "    \n",
    "    # initial spaces\n",
    "    iniS = 2 * N - 2\n",
    "    for i in range(1, N + 1):\n",
    "        # for printing the stars in the row\n",
    "        for j in range(1, i + 1):\n",
    "            print(\"*\", end=\"\")\n",
    "        \n",
    "        # for printing the spaces in the row\n",
    "        for j in range(iniS):\n",
    "            print(\" \", end=\"\")\n",
    "        \n",
    "        # for printing the stars in the row\n",
    "        for j in range(1, i + 1):\n",
    "            print(\"*\", end=\"\")\n",
    "        \n",
    "        # The spaces decrease by 2 every time we hit a new row\n",
    "        iniS -= 2\n",
    "        \n",
    "        # Move to the next row\n",
    "        print()\n",
    "\n",
    "# Here, we have taken the value of N as 3\n",
    "N = 6\n",
    "pattern19(N)\n",
    "\n",
    "    "
   ]
  },
  {
   "cell_type": "code",
   "execution_count": 24,
   "metadata": {},
   "outputs": [
    {
     "name": "stdout",
     "output_type": "stream",
     "text": [
      "*        *\n",
      "**      **\n",
      "***    ***\n",
      "****  ****\n",
      "**********\n",
      "****  ****\n",
      "***    ***\n",
      "**      **\n",
      "*        *\n"
     ]
    }
   ],
   "source": [
    "def pattern20(n):\n",
    "    # initializing the spaces\n",
    "    spaces = 2 * n - 2\n",
    "\n",
    "    # Outer loop for printing rows\n",
    "    for i in range(1, 2 * n):\n",
    "        # stars for the first half\n",
    "        stars = i\n",
    "\n",
    "        # stars for the second half\n",
    "        if i > n:\n",
    "            stars = 2 * n - i\n",
    "\n",
    "        # for printing the stars\n",
    "        for j in range(stars):\n",
    "            print(\"*\", end=\"\")\n",
    "\n",
    "        # for printing the spaces\n",
    "        for j in range(spaces):\n",
    "            print(\" \", end=\"\")\n",
    "\n",
    "        # for printing the stars\n",
    "        for j in range(stars):\n",
    "            print(\"*\", end=\"\")\n",
    "\n",
    "        # Move to the next row\n",
    "        print()\n",
    "\n",
    "        if i < n:\n",
    "            spaces -= 2\n",
    "        else:\n",
    "            spaces += 2\n",
    "\n",
    "# Here, we have taken the value of N as 5\n",
    "N = 5\n",
    "pattern20(N)\n"
   ]
  },
  {
   "cell_type": "code",
   "execution_count": 25,
   "metadata": {},
   "outputs": [
    {
     "name": "stdout",
     "output_type": "stream",
     "text": [
      "****\n",
      "*  *\n",
      "*  *\n",
      "****\n"
     ]
    }
   ],
   "source": [
    "n = 4\n",
    "for i in range(n):\n",
    "    for j in range(n):\n",
    "        if i == 0 or j == 0 or i == n-1 or j == n-1:\n",
    "            print('*', end='')\n",
    "        else:\n",
    "            print(' ', end='')\n",
    "    print()  # Move to the next line after printing each row\n",
    "\n",
    "            "
   ]
  },
  {
   "cell_type": "code",
   "execution_count": 26,
   "metadata": {},
   "outputs": [
    {
     "name": "stdout",
     "output_type": "stream",
     "text": [
      "3 3 3 3 3 \n",
      "3 2 2 2 3 \n",
      "3 2 1 2 3 \n",
      "3 2 2 2 3 \n",
      "3 3 3 3 3 \n"
     ]
    }
   ],
   "source": [
    "def print_pattern(N):\n",
    "    size = 2 * N - 1  # Size of the pattern\n",
    "\n",
    "    for i in range(size):\n",
    "        for j in range(size):\n",
    "            # Find the minimum distance to the edge\n",
    "            min_distance = min(i, j, size - i - 1, size - j - 1)\n",
    "            # Calculate the value to print\n",
    "            value = N - min_distance\n",
    "            print(value, end=\" \")\n",
    "        print()\n",
    "\n",
    "N = 3\n",
    "print_pattern(N)\n"
   ]
  }
 ],
 "metadata": {
  "kernelspec": {
   "display_name": "base",
   "language": "python",
   "name": "python3"
  },
  "language_info": {
   "codemirror_mode": {
    "name": "ipython",
    "version": 3
   },
   "file_extension": ".py",
   "mimetype": "text/x-python",
   "name": "python",
   "nbconvert_exporter": "python",
   "pygments_lexer": "ipython3",
   "version": "3.12.4"
  }
 },
 "nbformat": 4,
 "nbformat_minor": 2
}
