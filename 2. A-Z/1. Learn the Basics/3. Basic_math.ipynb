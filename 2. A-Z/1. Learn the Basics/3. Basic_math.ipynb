{
 "cells": [
  {
   "cell_type": "markdown",
   "metadata": {},
   "source": [
    "# Count Digits\n",
    "\n",
    "Example 1: \n",
    "\n",
    "Input:N = 12345\n",
    "\n",
    "Output:5\n",
    "\n",
    "Explanation:  The number 12345 has 5 digits.\n"
   ]
  },
  {
   "cell_type": "code",
   "execution_count": 4,
   "metadata": {},
   "outputs": [
    {
     "name": "stdout",
     "output_type": "stream",
     "text": [
      "5\n"
     ]
    }
   ],
   "source": [
    "def count(n):\n",
    "    ctr = 0  \n",
    "    while n > 0:\n",
    "        ctr += 1\n",
    "        n //= 10\n",
    "    return ctr\n",
    "\n",
    "n = 12345\n",
    "print(count(n))\n"
   ]
  },
  {
   "cell_type": "markdown",
   "metadata": {},
   "source": [
    "# Count Optimal"
   ]
  },
  {
   "cell_type": "code",
   "execution_count": 9,
   "metadata": {},
   "outputs": [
    {
     "name": "stdout",
     "output_type": "stream",
     "text": [
      "5\n"
     ]
    }
   ],
   "source": [
    "import math\n",
    "\n",
    "def count(n):\n",
    "    ctr = int(math.log10(n)+1)\n",
    "    return ctr\n",
    "\n",
    "n = 12345\n",
    "print(count(n))"
   ]
  },
  {
   "cell_type": "markdown",
   "metadata": {},
   "source": [
    "# Reverse a number"
   ]
  },
  {
   "cell_type": "code",
   "execution_count": 21,
   "metadata": {},
   "outputs": [
    {
     "name": "stdout",
     "output_type": "stream",
     "text": [
      "Reverse of number 0 is 321\n"
     ]
    }
   ],
   "source": [
    "n = int(input(\"Enter a number\"))\n",
    "rev = 0\n",
    "while n>0:\n",
    "    \n",
    "    rem = n%10\n",
    "    \n",
    "    rev = (rev*10)+rem\n",
    "    n//=10\n",
    "    \n",
    "print(f\"Reverse of number {n} is {rev}\")    "
   ]
  },
  {
   "cell_type": "markdown",
   "metadata": {},
   "source": [
    "# Check Palindrome"
   ]
  },
  {
   "cell_type": "code",
   "execution_count": 13,
   "metadata": {},
   "outputs": [
    {
     "name": "stdout",
     "output_type": "stream",
     "text": [
      "323 is a palindrome.\n"
     ]
    }
   ],
   "source": [
    "number = int(input(\"Enter a number\"))\n",
    "\n",
    "\n",
    "def palindrome(n):\n",
    "    rev = 0\n",
    "    dup = n\n",
    "    while n>0:\n",
    "        rem = n%10\n",
    "    \n",
    "        rev = (rev*10)+rem\n",
    "        n//=10\n",
    "\n",
    "    if dup == rev:\n",
    "        return True\n",
    "    else:\n",
    "        return False\n",
    "\n",
    "if palindrome(number):\n",
    "    print(number, \"is a palindrome.\")\n",
    "else:\n",
    "    print(number, \"is not a palindrome.\")\n",
    "        \n",
    "    \n",
    "    "
   ]
  },
  {
   "cell_type": "markdown",
   "metadata": {},
   "source": [
    "# GCD or HCF\n",
    "\n",
    "Can be solved in 3 ways lets explore all"
   ]
  },
  {
   "cell_type": "code",
   "execution_count": 25,
   "metadata": {},
   "outputs": [
    {
     "name": "stdout",
     "output_type": "stream",
     "text": [
      "GCD of 20 and 15 is: 5\n"
     ]
    }
   ],
   "source": [
    "def find_gcd(n1, n2):\n",
    "    gcd = 1\n",
    "    for i in range(1, min(n1, n2) + 1):\n",
    "        if n1 % i == 0 and n2 % i == 0:\n",
    "            gcd = i\n",
    "    return gcd\n",
    "\n",
    "if __name__ == \"__main__\":\n",
    "    n1, n2 = 20, 15\n",
    "    gcd = find_gcd(n1, n2)\n",
    "    print(\"GCD of\", n1, \"and\", n2, \"is:\", gcd)\n"
   ]
  },
  {
   "cell_type": "code",
   "execution_count": 26,
   "metadata": {},
   "outputs": [
    {
     "name": "stdout",
     "output_type": "stream",
     "text": [
      "GCD of 20 and 15 is: 5\n"
     ]
    }
   ],
   "source": [
    "def findGcd(n1, n2):\n",
    "    for i in range(min(n1, n2), 0, -1):\n",
    "        if n1 % i == 0 and n2 % i == 0:\n",
    "            return i\n",
    "    return 1\n",
    "\n",
    "def main():\n",
    "    n1 = 20\n",
    "    n2 = 15\n",
    "    gcd = findGcd(n1, n2)\n",
    "    print(\"GCD of\", n1, \"and\", n2, \"is:\", gcd)\n",
    "\n",
    "if __name__ == \"__main__\":\n",
    "    main()\n"
   ]
  },
  {
   "cell_type": "markdown",
   "metadata": {},
   "source": [
    "The Euclidean Algorithm is a method for finding the greatest common divisor of two numbers. It operates on the principle that the GCD of two numbers remains the same even if the smaller number is subtracted from the larger number.\n",
    "\n",
    "To find the GCD of n1 and n2 where n1 > n2:\n",
    "\n",
    "Repeatedly subtract the smaller number from the larger number until one of them becomes 0.\n",
    "Once one of them becomes 0, the other number is the GCD of the original numbers.\n",
    "Eg, n1 = 20, n2 = 15:\n",
    "\n",
    "gcd(20, 15) = gcd(20-15, 15) = gcd(5, 15)\n",
    "\n",
    "gcd(5, 15) = gcd(15-5, 5) = gcd(10, 5)\n",
    "\n",
    "gcd(10, 5) = gcd(10-5, 5) = gcd(5, 5)\n",
    "\n",
    "gcd(5, 5) = gcd(5-5, 5) = gcd(0, 5)\n",
    "\n",
    "Hence, return 5 as the gcd."
   ]
  },
  {
   "cell_type": "code",
   "execution_count": 27,
   "metadata": {},
   "outputs": [
    {
     "name": "stdout",
     "output_type": "stream",
     "text": [
      "GCD of 20 and 15 is: 5\n"
     ]
    }
   ],
   "source": [
    "def find_gcd(a, b):\n",
    "    while a > 0 and b > 0:\n",
    "        if a > b:\n",
    "            a = a % b\n",
    "        else:\n",
    "            b = b % a\n",
    "    if a == 0:\n",
    "        return b\n",
    "    return a\n",
    "\n",
    "def main():\n",
    "    n1 = 20\n",
    "    n2 = 15\n",
    "    gcd = find_gcd(n1, n2)\n",
    "    print(f\"GCD of {n1} and {n2} is: {gcd}\")\n",
    "\n",
    "if __name__ == \"__main__\":\n",
    "    main()\n"
   ]
  },
  {
   "cell_type": "markdown",
   "metadata": {},
   "source": [
    "# Check if a number is Armstrong Number or not\n",
    "\n",
    "Number of digits: 3, 153 = 1^3+5^3+3^3"
   ]
  },
  {
   "cell_type": "code",
   "execution_count": 33,
   "metadata": {},
   "outputs": [
    {
     "name": "stdout",
     "output_type": "stream",
     "text": [
      "Number is Armstrong\n"
     ]
    }
   ],
   "source": [
    "n = 153\n",
    "p = n\n",
    "sum = 0\n",
    "k = len(str(n))  # Calculate the length once before the loop\n",
    "while n > 0:\n",
    "    var = n % 10\n",
    "    sum += var ** k\n",
    "    n //= 10\n",
    "    \n",
    "if sum == p:\n",
    "    print(\"Number is Armstrong\")\n",
    "else:\n",
    "    print(\"It is not an Armstrong\")\n"
   ]
  },
  {
   "cell_type": "markdown",
   "metadata": {},
   "source": [
    "# Divisor of number"
   ]
  },
  {
   "cell_type": "code",
   "execution_count": 34,
   "metadata": {},
   "outputs": [
    {
     "name": "stdout",
     "output_type": "stream",
     "text": [
      "Divisors of 12 are: 1 2 3 4 6 12 \n"
     ]
    }
   ],
   "source": [
    "def print_divisors(n):\n",
    "    print(f\"Divisors of {n} are:\", end=\" \")\n",
    "    for i in range(1, n + 1):\n",
    "        if n % i == 0:\n",
    "            print(i, end=\" \")\n",
    "    print()\n",
    "\n",
    "# Example usage\n",
    "number = int(input(\"Enter a number: \"))\n",
    "print_divisors(number)\n"
   ]
  },
  {
   "cell_type": "markdown",
   "metadata": {},
   "source": [
    "# Optimal approach"
   ]
  },
  {
   "cell_type": "code",
   "execution_count": 39,
   "metadata": {},
   "outputs": [
    {
     "name": "stdout",
     "output_type": "stream",
     "text": [
      "[1, 5]\n"
     ]
    }
   ],
   "source": [
    "n =5  \n",
    "sqn = int(n**0.5)\n",
    "d = []\n",
    "for i in range(1,sqn+1):\n",
    "    if n%i==0:\n",
    "        d.append(i)\n",
    "        \n",
    "        if i!=n//i:\n",
    "            d.append(n//i)\n",
    "            \n",
    "print(d)"
   ]
  },
  {
   "cell_type": "markdown",
   "metadata": {},
   "source": [
    "# Prime number\n",
    "\n",
    "Any prime number greater than 3 can be expressed in the form \n",
    "6𝑘 ± 1 where 𝑘 is an integer. \n",
    "\n",
    "By iterating from \\(i = 5\\) and checking \\(i\\) and \\(i + 2\\), you cover all cases of \\(6k +- 1\\) where \\(i\\) is \\(6k - 1\\) and \\(i + 2\\) is \\(6k + 1\\)."
   ]
  },
  {
   "cell_type": "code",
   "execution_count": 40,
   "metadata": {},
   "outputs": [
    {
     "name": "stdout",
     "output_type": "stream",
     "text": [
      "23 is a prime number.\n"
     ]
    }
   ],
   "source": [
    "def is_prime(n):\n",
    "    if n <= 1:\n",
    "        return False \n",
    "    if n <= 3:\n",
    "        return True   \n",
    "    if n % 2 == 0 or n % 3 == 0:\n",
    "        return False \n",
    "\n",
    "    sqn = int(n**0.5)\n",
    "    for i in range(5, sqn + 1, 6):\n",
    "        if n % i == 0 or n % (i + 2) == 0:\n",
    "            return False  # Divisible by i or i + 2 means it's not prime\n",
    "    return True\n",
    "\n",
    "number = int(input(\"Enter a number: \"))\n",
    "if is_prime(number):\n",
    "    print(f\"{number} is a prime number.\")\n",
    "else:\n",
    "    print(f\"{number} is not a prime number.\")\n"
   ]
  }
 ],
 "metadata": {
  "kernelspec": {
   "display_name": "base",
   "language": "python",
   "name": "python3"
  },
  "language_info": {
   "codemirror_mode": {
    "name": "ipython",
    "version": 3
   },
   "file_extension": ".py",
   "mimetype": "text/x-python",
   "name": "python",
   "nbconvert_exporter": "python",
   "pygments_lexer": "ipython3",
   "version": "3.12.4"
  }
 },
 "nbformat": 4,
 "nbformat_minor": 2
}
