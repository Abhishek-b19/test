{
 "cells": [
  {
   "cell_type": "markdown",
   "metadata": {},
   "source": [
    "# Frequency of each ele"
   ]
  },
  {
   "cell_type": "code",
   "execution_count": 14,
   "metadata": {},
   "outputs": [
    {
     "name": "stdout",
     "output_type": "stream",
     "text": [
      "10  :  3\n",
      "5  :  2\n",
      "15  :  1\n"
     ]
    }
   ],
   "source": [
    "def Frequency(arr, n):\n",
    "    mp = {}\n",
    "    for i in range(n):\n",
    "        if arr[i] in mp:\n",
    "            mp[arr[i]] += 1\n",
    "        else:\n",
    "            mp[arr[i]] = 1\n",
    "    for x in mp:\n",
    "        \n",
    "        print(f'{x}  :  {mp[x]}')\n",
    "\n",
    "\n",
    "if __name__ == '__main__':\n",
    "    arr = [10, 5, 10, 15, 10, 5]\n",
    "    n = len(arr)\n",
    "    Frequency(arr, n)"
   ]
  },
  {
   "cell_type": "markdown",
   "metadata": {},
   "source": [
    "# Highest and Lowest freq."
   ]
  },
  {
   "cell_type": "code",
   "execution_count": 3,
   "metadata": {},
   "outputs": [
    {
     "name": "stdout",
     "output_type": "stream",
     "text": [
      "The highest frequency element is: 10\n",
      "The lowest frequency element is: 15\n"
     ]
    }
   ],
   "source": [
    "def frequency(arr):\n",
    "    freq_map = {}\n",
    "\n",
    "    # Count frequencies\n",
    "    for num in arr:\n",
    "        if num in freq_map:\n",
    "            freq_map[num] += 1\n",
    "        else:\n",
    "            freq_map[num] = 1\n",
    "\n",
    "    max_freq = 0\n",
    "    min_freq = len(arr)\n",
    "    max_ele = None\n",
    "    min_ele = None\n",
    "\n",
    "    # Find elements with the highest and lowest frequency\n",
    "    for element, count in freq_map.items():\n",
    "        if count > max_freq:\n",
    "            max_ele = element\n",
    "            max_freq = count\n",
    "        if count < min_freq:\n",
    "            min_ele = element\n",
    "            min_freq = count\n",
    "\n",
    "    print(f\"The highest frequency element is: {max_ele}\")\n",
    "    print(f\"The lowest frequency element is: {min_ele}\")\n",
    "\n",
    "# Example usage\n",
    "arr = [10, 5, 10, 15, 10, 5]\n",
    "frequency(arr)\n"
   ]
  }
 ],
 "metadata": {
  "kernelspec": {
   "display_name": "base",
   "language": "python",
   "name": "python3"
  },
  "language_info": {
   "codemirror_mode": {
    "name": "ipython",
    "version": 3
   },
   "file_extension": ".py",
   "mimetype": "text/x-python",
   "name": "python",
   "nbconvert_exporter": "python",
   "pygments_lexer": "ipython3",
   "version": "3.12.4"
  }
 },
 "nbformat": 4,
 "nbformat_minor": 2
}
