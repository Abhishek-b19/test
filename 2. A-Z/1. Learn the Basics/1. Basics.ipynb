{
 "cells": [
  {
   "cell_type": "markdown",
   "metadata": {},
   "source": [
    "# 1. Data Types"
   ]
  },
  {
   "cell_type": "code",
   "execution_count": 1,
   "metadata": {},
   "outputs": [
    {
     "name": "stdout",
     "output_type": "stream",
     "text": [
      "<class 'int'>\n",
      "<class 'float'>\n",
      "<class 'str'>\n",
      "<class 'list'>\n",
      "<class 'dict'>\n"
     ]
    }
   ],
   "source": [
    "# Integer\n",
    "a = 10\n",
    "print(type(a))  # Output: <class 'int'>\n",
    "\n",
    "# Float\n",
    "b = 3.14\n",
    "print(type(b))  # Output: <class 'float'>\n",
    "\n",
    "# String\n",
    "c = \"Hello, World!\"\n",
    "print(type(c))  # Output: <class 'str'>\n",
    "\n",
    "# List (Array in Python)\n",
    "d = [1, 2, 3, 4]\n",
    "print(type(d))  # Output: <class 'list'>\n",
    "\n",
    "# Dictionary\n",
    "e = {\"key\": \"value\"}\n",
    "print(type(e))  # Output: <class 'dict'>\n"
   ]
  },
  {
   "cell_type": "markdown",
   "metadata": {},
   "source": [
    "# 2. If-Else Statements"
   ]
  },
  {
   "cell_type": "code",
   "execution_count": 2,
   "metadata": {},
   "outputs": [
    {
     "name": "stdout",
     "output_type": "stream",
     "text": [
      "Positive\n"
     ]
    }
   ],
   "source": [
    "x = 10\n",
    "if x > 0:\n",
    "    print(\"Positive\")\n",
    "elif x == 0:\n",
    "    print(\"Zero\")\n",
    "else:\n",
    "    print(\"Negative\")\n"
   ]
  },
  {
   "cell_type": "markdown",
   "metadata": {},
   "source": [
    "# 3. Switch Statement (Python Equivalent)\n",
    "Python does not have a switch statement, but you can use a dictionary to mimic it."
   ]
  },
  {
   "cell_type": "code",
   "execution_count": 3,
   "metadata": {},
   "outputs": [
    {
     "name": "stdout",
     "output_type": "stream",
     "text": [
      "Case 2\n",
      "Default case\n"
     ]
    }
   ],
   "source": [
    "def switch_case(case):\n",
    "    switcher = {\n",
    "        1: \"Case 1\",\n",
    "        2: \"Case 2\",\n",
    "        3: \"Case 3\",\n",
    "    }\n",
    "    return switcher.get(case, \"Default case\")\n",
    "\n",
    "print(switch_case(2))  # Output: Case 2\n",
    "print(switch_case(5))  # Output: Default case\n"
   ]
  },
  {
   "cell_type": "markdown",
   "metadata": {},
   "source": [
    "# 4. Arrays and Strings\n",
    "Arrays in Python are typically lists."
   ]
  },
  {
   "cell_type": "code",
   "execution_count": 4,
   "metadata": {},
   "outputs": [
    {
     "name": "stdout",
     "output_type": "stream",
     "text": [
      "[1, 2, 3, 4, 5]\n"
     ]
    }
   ],
   "source": [
    "# Array (List in Python)\n",
    "arr = [1, 2, 3, 4, 5]\n",
    "print(arr)  # Output: [1, 2, 3, 4, 5]\n"
   ]
  },
  {
   "cell_type": "markdown",
   "metadata": {},
   "source": [
    "# Strings are sequences of characters."
   ]
  },
  {
   "cell_type": "code",
   "execution_count": 5,
   "metadata": {},
   "outputs": [
    {
     "name": "stdout",
     "output_type": "stream",
     "text": [
      "Hello\n"
     ]
    }
   ],
   "source": [
    "# String\n",
    "s = \"Hello\"\n",
    "print(s)  # Output: Hello\n"
   ]
  },
  {
   "cell_type": "markdown",
   "metadata": {},
   "source": [
    "# 5. For Loops"
   ]
  },
  {
   "cell_type": "code",
   "execution_count": 6,
   "metadata": {},
   "outputs": [
    {
     "name": "stdout",
     "output_type": "stream",
     "text": [
      "0\n",
      "1\n",
      "2\n",
      "3\n",
      "4\n"
     ]
    }
   ],
   "source": [
    "# For loop\n",
    "for i in range(5):\n",
    "    print(i)\n"
   ]
  },
  {
   "cell_type": "markdown",
   "metadata": {},
   "source": [
    "# 6. While Loops"
   ]
  },
  {
   "cell_type": "code",
   "execution_count": 7,
   "metadata": {},
   "outputs": [
    {
     "name": "stdout",
     "output_type": "stream",
     "text": [
      "0\n",
      "1\n",
      "2\n",
      "3\n",
      "4\n"
     ]
    }
   ],
   "source": [
    "# While loop\n",
    "i = 0\n",
    "while i < 5:\n",
    "    print(i)\n",
    "    i += 1\n"
   ]
  },
  {
   "cell_type": "code",
   "execution_count": 2,
   "metadata": {},
   "outputs": [
    {
     "name": "stdout",
     "output_type": "stream",
     "text": [
      "Initial List: [1, 2, 3, 4, 5]\n",
      "After append(6): [1, 2, 3, 4, 5, 6]\n",
      "After extend([7, 8]): [1, 2, 3, 4, 5, 6, 7, 8]\n",
      "After insert(2, 10): [1, 2, 10, 3, 4, 5, 6, 7, 8]\n",
      "After remove(10): [1, 2, 3, 4, 5, 6, 7, 8]\n",
      "After pop(): [1, 2, 3, 4, 5, 6, 7] Popped item: 8\n",
      "After clear(): []\n",
      "Index of 3: 2\n",
      "Count of 2: 1\n",
      "After sort(reverse=True): [5, 4, 3, 2, 1]\n",
      "After reverse(): [1, 2, 3, 4, 5]\n",
      "Copied List: [1, 2, 3, 4, 5]\n",
      "Length of list: 5\n",
      "After concatenation: [1, 2, 3, 4, 5, 6, 7]\n",
      "After repetition: [1, 2, 3, 4, 5, 1, 2, 3, 4, 5]\n"
     ]
    }
   ],
   "source": [
    "# Lists and their functions\n",
    "\n",
    "# Creating a list\n",
    "my_list = [1, 2, 3, 4, 5]\n",
    "\n",
    "# Major list functions\n",
    "print(\"Initial List:\", my_list)\n",
    "my_list.append(6)          # Adds an item 6 to the end of the list\n",
    "print(\"After append(6):\", my_list)\n",
    "\n",
    "my_list.extend([7, 8])     # Extends the list by appending elements from an iterable\n",
    "print(\"After extend([7, 8]):\", my_list)\n",
    "\n",
    "my_list.insert(2, 10)      # Inserts an item 10 at a given position 2\n",
    "print(\"After insert(2, 10):\", my_list)\n",
    "\n",
    "my_list.remove(10)         # Removes the first item from the list whose value is equal to 10\n",
    "print(\"After remove(10):\", my_list)\n",
    "\n",
    "popped_item = my_list.pop()  # Removes and returns the item at the last position\n",
    "print(\"After pop():\", my_list, \"Popped item:\", popped_item)\n",
    "\n",
    "my_list.clear()            # Removes all items from the list\n",
    "print(\"After clear():\", my_list)\n",
    "\n",
    "my_list = [1, 2, 3, 4, 5]\n",
    "index_of_3 = my_list.index(3)  # Returns the index of the first item whose value is equal to 3\n",
    "print(\"Index of 3:\", index_of_3)\n",
    "\n",
    "count_of_2 = my_list.count(2)  # Returns the number of times 2 appears in the list\n",
    "print(\"Count of 2:\", count_of_2)\n",
    "\n",
    "my_list.sort(reverse=True)  # Sorts the items of the list in descending order\n",
    "print(\"After sort(reverse=True):\", my_list)\n",
    "\n",
    "my_list.reverse()          # Reverses the elements of the list in place\n",
    "print(\"After reverse():\", my_list)\n",
    "\n",
    "copied_list = my_list.copy()  # Returns a shallow copy of the list\n",
    "print(\"Copied List:\", copied_list)\n",
    "\n",
    "print(\"Length of list:\", len(my_list))\n",
    "\n",
    "# Additional list operations\n",
    "concatenated_list = my_list + [6, 7]\n",
    "print(\"After concatenation:\", concatenated_list)\n",
    "\n",
    "repeated_list = my_list * 2\n",
    "print(\"After repetition:\", repeated_list)\n"
   ]
  },
  {
   "cell_type": "code",
   "execution_count": 4,
   "metadata": {},
   "outputs": [
    {
     "name": "stdout",
     "output_type": "stream",
     "text": [
      "Initial Dictionary: {'a': 1, 'b': 2, 'c': 3}\n",
      "Keys: ['a', 'b', 'c']\n",
      "Values: [1, 2, 3]\n",
      "Items: [('a', 1), ('b', 2), ('c', 3)]\n",
      "Value of 'a': 1\n",
      "After update({'d': 4}): {'a': 1, 'b': 2, 'c': 3, 'd': 4}\n",
      "After pop('b'): {'a': 1, 'c': 3, 'd': 4} Popped value: 2\n",
      "After popitem(): {'a': 1, 'c': 3} Popped item: ('d', 4)\n",
      "After clear(): {}\n",
      "Copied Dictionary: {'x': 10}\n",
      "After setdefault('y', 20): {'x': 10, 'y': 20} Returned value: 20\n",
      "Length of dictionary: 2\n",
      "Fromkeys(['a', 'b', 'c'], 0): {'a': 0, 'b': 0, 'c': 0}\n"
     ]
    }
   ],
   "source": [
    "# Dictionaries and their functions\n",
    "\n",
    "# Creating a dictionary\n",
    "my_dict = {'a': 1, 'b': 2, 'c': 3}\n",
    "\n",
    "# Major dictionary functions\n",
    "print(\"Initial Dictionary:\", my_dict)\n",
    "keys = my_dict.keys()      # Returns a view object that displays a list of all the keys\n",
    "print(\"Keys:\", list(keys))\n",
    "\n",
    "values = my_dict.values()  # Returns a view object that displays a list of all the values\n",
    "print(\"Values:\", list(values))\n",
    "\n",
    "items = my_dict.items()    # Returns a view object that displays a list of dictionary's key-value tuple pairs\n",
    "print(\"Items:\", list(items))\n",
    "\n",
    "value_of_a = my_dict.get('a')  # Returns the value for key 'a'\n",
    "print(\"Value of 'a':\", value_of_a)\n",
    "\n",
    "my_dict.update({'d': 4})  # Updates the dictionary with a new key-value pair\n",
    "print(\"After update({'d': 4}):\", my_dict)\n",
    "\n",
    "popped_value = my_dict.pop('b')  # Removes the specified key 'b' and returns the corresponding value\n",
    "print(\"After pop('b'):\", my_dict, \"Popped value:\", popped_value)\n",
    "\n",
    "popped_item = my_dict.popitem()  # Removes and returns a (key, value) pair\n",
    "print(\"After popitem():\", my_dict, \"Popped item:\", popped_item)\n",
    "\n",
    "my_dict.clear()            # Removes all items from the dictionary\n",
    "print(\"After clear():\", my_dict)\n",
    "\n",
    "my_dict = {'x': 10}\n",
    "copied_dict = my_dict.copy()  # Returns a shallow copy of the dictionary\n",
    "print(\"Copied Dictionary:\", copied_dict)\n",
    "\n",
    "default_value = my_dict.setdefault('y', 20)  # Returns the value of 'y' if present, otherwise inserts 'y' with value 20\n",
    "print(\"After setdefault('y', 20):\", my_dict, \"Returned value:\", default_value)\n",
    "\n",
    "print(\"Length of dictionary:\", len(my_dict))\n",
    "\n",
    "# Additional dictionary operations\n",
    "new_dict = dict.fromkeys(['a', 'b', 'c'], 0)  # Creates a new dictionary with keys from the list and values set to 0\n",
    "print(\"Fromkeys(['a', 'b', 'c'], 0):\", new_dict)\n"
   ]
  },
  {
   "cell_type": "code",
   "execution_count": 5,
   "metadata": {},
   "outputs": [
    {
     "name": "stdout",
     "output_type": "stream",
     "text": [
      "Initial Tuple: (1, 2, 3, 4, 5)\n",
      "Count of 3: 1\n",
      "Index of 4: 3\n",
      "Length of tuple: 5\n",
      "After concatenation: (1, 2, 3, 4, 5, 6, 7)\n",
      "After repetition: (1, 2, 3, 4, 5, 1, 2, 3, 4, 5)\n"
     ]
    }
   ],
   "source": [
    "# Tuples and their functions\n",
    "\n",
    "# Creating a tuple\n",
    "my_tuple = (1, 2, 3, 4, 5)\n",
    "\n",
    "# Major tuple functions\n",
    "print(\"Initial Tuple:\", my_tuple)\n",
    "count_of_3 = my_tuple.count(3)  # Returns the number of times 3 appears in the tuple\n",
    "print(\"Count of 3:\", count_of_3)\n",
    "\n",
    "index_of_4 = my_tuple.index(4)  # Returns the index of the first item whose value is equal to 4\n",
    "print(\"Index of 4:\", index_of_4)\n",
    "\n",
    "print(\"Length of tuple:\", len(my_tuple))\n",
    "\n",
    "# Additional tuple operations\n",
    "concatenated_tuple = my_tuple + (6, 7)\n",
    "print(\"After concatenation:\", concatenated_tuple)\n",
    "\n",
    "repeated_tuple = my_tuple * 2\n",
    "print(\"After repetition:\", repeated_tuple)\n"
   ]
  },
  {
   "cell_type": "code",
   "execution_count": 6,
   "metadata": {},
   "outputs": [
    {
     "name": "stdout",
     "output_type": "stream",
     "text": [
      "Initial Set: {1, 2, 3, 4, 5}\n",
      "After add(6): {1, 2, 3, 4, 5, 6}\n",
      "After update([7, 8]): {1, 2, 3, 4, 5, 6, 7, 8}\n",
      "After remove(8): {1, 2, 3, 4, 5, 6, 7}\n",
      "After discard(7): {1, 2, 3, 4, 5, 6}\n",
      "After pop(): {2, 3, 4, 5, 6} Popped element: 1\n",
      "After clear(): set()\n",
      "Union: {1, 2, 3, 4, 5}\n",
      "Intersection: {3}\n",
      "Difference: {1, 2}\n",
      "Symmetric Difference: {1, 2, 4, 5}\n",
      "Copied Set: {1, 2, 3}\n",
      "Length of set: 3\n",
      "Is disjoint with another_set: False\n",
      "Is subset of another_set: False\n",
      "Is superset of another_set: False\n"
     ]
    }
   ],
   "source": [
    "# Sets and their functions\n",
    "\n",
    "# Creating a set\n",
    "my_set = {1, 2, 3, 4, 5}\n",
    "\n",
    "# Major set functions\n",
    "print(\"Initial Set:\", my_set)\n",
    "my_set.add(6)              # Adds an element 6 to the set\n",
    "print(\"After add(6):\", my_set)\n",
    "\n",
    "my_set.update([7, 8])      # Updates the set with elements from an iterable\n",
    "print(\"After update([7, 8]):\", my_set)\n",
    "\n",
    "my_set.remove(8)           # Removes the element 8 from the set; raises KeyError if not present\n",
    "print(\"After remove(8):\", my_set)\n",
    "\n",
    "my_set.discard(7)          # Removes the element 7 from the set if it is present\n",
    "print(\"After discard(7):\", my_set)\n",
    "\n",
    "popped_element = my_set.pop()  # Removes and returns an arbitrary element from the set\n",
    "print(\"After pop():\", my_set, \"Popped element:\", popped_element)\n",
    "\n",
    "my_set.clear()             # Removes all elements from the set\n",
    "print(\"After clear():\", my_set)\n",
    "\n",
    "my_set = {1, 2, 3}\n",
    "another_set = {3, 4, 5}\n",
    "union_set = my_set.union(another_set)  # Returns a new set with all items from the set and another_set\n",
    "print(\"Union:\", union_set)\n",
    "\n",
    "intersection_set = my_set.intersection(another_set)  # Returns a new set with items common to both sets\n",
    "print(\"Intersection:\", intersection_set)\n",
    "\n",
    "difference_set = my_set.difference(another_set)  # Returns a new set with items in my_set that are not in another_set\n",
    "print(\"Difference:\", difference_set)\n",
    "\n",
    "symmetric_difference_set = my_set.symmetric_difference(another_set)  # Returns a new set with items in either set but not both\n",
    "print(\"Symmetric Difference:\", symmetric_difference_set)\n",
    "\n",
    "copied_set = my_set.copy()  # Returns a shallow copy of the set\n",
    "print(\"Copied Set:\", copied_set)\n",
    "\n",
    "print(\"Length of set:\", len(my_set))\n",
    "\n",
    "# Additional set operations\n",
    "print(\"Is disjoint with another_set:\", my_set.isdisjoint(another_set))  # Returns True if no elements are common\n",
    "print(\"Is subset of another_set:\", my_set.issubset(another_set))  # Returns True if my_set is a subset of another_set\n",
    "print(\"Is superset of another_set:\", my_set.issuperset(another_set))  # Returns True if my_set is a superset of another_set\n"
   ]
  },
  {
   "cell_type": "code",
   "execution_count": 7,
   "metadata": {},
   "outputs": [
    {
     "name": "stdout",
     "output_type": "stream",
     "text": [
      "Initial String: Hello, World!\n",
      "Upper case: HELLO, WORLD!\n",
      "Lower case: hello, world!\n",
      "Title case: Hello, World!\n",
      "Capitalized: Hello, world!\n",
      "Find 'World': 7\n",
      "Replace 'World' with 'Python': Hello, Python!\n",
      "Split by ',': ['Hello', ' World!']\n",
      "Strip 'Hello': , World!\n",
      "String length: 13\n",
      "String with leading zeros (zfill): 0000000Hello, World!\n",
      "String to list: ['H', 'e', 'l', 'l', 'o', ',', ' ', 'W', 'o', 'r', 'l', 'd', '!']\n"
     ]
    }
   ],
   "source": [
    "# Strings and their functions\n",
    "\n",
    "# Creating a string\n",
    "my_string = \"Hello, World!\"\n",
    "\n",
    "# Major string functions\n",
    "print(\"Initial String:\", my_string)\n",
    "print(\"Upper case:\", my_string.upper())            # Converts all characters to upper case\n",
    "print(\"Lower case:\", my_string.lower())            # Converts all characters to lower case\n",
    "print(\"Title case:\", my_string.title())            # Converts the first character of each word to upper case\n",
    "print(\"Capitalized:\", my_string.capitalize())      # Converts the first character to upper case\n",
    "print(\"Find 'World':\", my_string.find('World'))    # Returns the lowest index where substring 'World' is found\n",
    "print(\"Replace 'World' with 'Python':\", my_string.replace('World', 'Python'))  # Replaces 'World' with 'Python'\n",
    "print(\"Split by ',':\", my_string.split(','))       # Splits the string by ','\n",
    "print(\"Strip 'Hello':\", my_string.strip('Hello'))  # Removes 'Hello' from the beginning and end\n",
    "print(\"String length:\", len(my_string))\n",
    "\n",
    "# Additional string operations\n",
    "print(\"String with leading zeros (zfill):\", my_string.zfill(20))  # Pads the string on the left with zeros to make its length 20\n",
    "print(\"String to list:\", list(my_string))  # Converts the string to a list of characters\n"
   ]
  },
  {
   "cell_type": "markdown",
   "metadata": {},
   "source": [
    "# List Comprehension"
   ]
  },
  {
   "cell_type": "code",
   "execution_count": 1,
   "metadata": {},
   "outputs": [
    {
     "name": "stdout",
     "output_type": "stream",
     "text": [
      "[0, 1, 4, 9, 16, 25, 36, 49, 64, 81]\n",
      "[0, 2, 4, 6, 8]\n",
      "[[0, 1, 2], [3, 4, 5], [6, 7, 8]]\n",
      "[0, 1, 2, 3, 4, 5, 6, 7, 8]\n",
      "['HELLO', 'WORLD']\n",
      "[0, 6, 12, 18]\n",
      "['even', 'odd', 'even', 'odd', 'even']\n",
      "[('Alice', 25), ('Bob', 30), ('Charlie', 35)]\n",
      "{0: 0, 1: 1, 2: 4, 3: 9, 4: 16}\n",
      "{16, 1, 4, 9}\n",
      "['Index 0: apple', 'Index 1: banana', 'Index 2: cherry']\n",
      "[5, 7, 9]\n"
     ]
    }
   ],
   "source": [
    "# Example 1: Basic List Comprehension\n",
    "# Create a list of squares for numbers 0 through 9\n",
    "squares = [x**2 for x in range(10)]\n",
    "print(squares)  # Output: [0, 1, 4, 9, 16, 25, 36, 49, 64, 81]\n",
    "\n",
    "# Example 2: List Comprehension with a Condition (Filter)\n",
    "# Create a list of even numbers from 0 to 9\n",
    "evens = [x for x in range(10) if x % 2 == 0]\n",
    "print(evens)  # Output: [0, 2, 4, 6, 8]\n",
    "\n",
    "# Example 3: Nested List Comprehensions\n",
    "# Create a 3x3 matrix with list comprehension\n",
    "matrix = [[row * 3 + col for col in range(3)] for row in range(3)]\n",
    "print(matrix)  # Output: [[0, 1, 2], [3, 4, 5], [6, 7, 8]]\n",
    "\n",
    "# Example 4: Flattening a Nested List\n",
    "# Flatten a 2D list (matrix) into a 1D list\n",
    "flattened = [num for row in matrix for num in row]\n",
    "print(flattened)  # Output: [0, 1, 2, 3, 4, 5, 6, 7, 8]\n",
    "\n",
    "# Example 5: List Comprehension with a Function\n",
    "# Convert a list of strings to uppercase using a function\n",
    "def to_uppercase(s):\n",
    "    return s.upper()\n",
    "\n",
    "strings = [\"hello\", \"world\"]\n",
    "uppercase_strings = [to_uppercase(s) for s in strings]\n",
    "print(uppercase_strings)  # Output: ['HELLO', 'WORLD']\n",
    "\n",
    "# Example 6: List Comprehension with Multiple Conditions\n",
    "# Create a list of numbers from 0 to 19 that are divisible by both 2 and 3\n",
    "divisible_by_2_and_3 = [x for x in range(20) if x % 2 == 0 and x % 3 == 0]\n",
    "print(divisible_by_2_and_3)  # Output: [0, 6, 12, 18]\n",
    "\n",
    "# Example 7: List Comprehension with a Conditional Expression\n",
    "# Create a list of strings indicating if numbers 0 to 4 are even or odd\n",
    "even_or_odd = [\"even\" if x % 2 == 0 else \"odd\" for x in range(5)]\n",
    "print(even_or_odd)  # Output: ['even', 'odd', 'even', 'odd', 'even']\n",
    "\n",
    "# Example 8: List Comprehension with Zip\n",
    "# Create a list of tuples pairing elements from two lists\n",
    "names = [\"Alice\", \"Bob\", \"Charlie\"]\n",
    "ages = [25, 30, 35]\n",
    "paired = [(name, age) for name, age in zip(names, ages)]\n",
    "print(paired)  # Output: [('Alice', 25), ('Bob', 30), ('Charlie', 35)]\n",
    "\n",
    "# Example 9: Dictionary Comprehension (not a list, but similar syntax)\n",
    "# Create a dictionary mapping numbers to their squares\n",
    "squares_dict = {x: x**2 for x in range(5)}\n",
    "print(squares_dict)  # Output: {0: 0, 1: 1, 2: 4, 3: 9, 4: 16}\n",
    "\n",
    "# Example 10: Set Comprehension (also similar syntax)\n",
    "# Create a set of unique squares from a list\n",
    "unique_squares = {x**2 for x in [1, 2, 2, 3, 3, 3, 4]}\n",
    "print(unique_squares)  # Output: {16, 1, 4, 9}\n",
    "\n",
    "# Example 11: List Comprehension with Enumerate\n",
    "# Create a list of strings describing the index and value of items in a list\n",
    "items = [\"apple\", \"banana\", \"cherry\"]\n",
    "indexed_items = [f\"Index {i}: {item}\" for i, item in enumerate(items)]\n",
    "print(indexed_items)  # Output: ['Index 0: apple', 'Index 1: banana', 'Index 2: cherry']\n",
    "\n",
    "# Example 12: Combining Lists with a Comprehension\n",
    "# Create a new list by adding elements from two lists element-wise\n",
    "list1 = [1, 2, 3]\n",
    "list2 = [4, 5, 6]\n",
    "combined = [x + y for x, y in zip(list1, list2)]\n",
    "print(combined)  # Output: [5, 7, 9]\n"
   ]
  },
  {
   "cell_type": "code",
   "execution_count": 11,
   "metadata": {},
   "outputs": [
    {
     "data": {
      "text/plain": [
       "['even', 'odd', 'even', 'odd', 'even']"
      ]
     },
     "execution_count": 11,
     "metadata": {},
     "output_type": "execute_result"
    }
   ],
   "source": [
    "[\"even\" if x % 2 == 0 else \"odd\" for x in range(5)]"
   ]
  }
 ],
 "metadata": {
  "kernelspec": {
   "display_name": "base",
   "language": "python",
   "name": "python3"
  },
  "language_info": {
   "codemirror_mode": {
    "name": "ipython",
    "version": 3
   },
   "file_extension": ".py",
   "mimetype": "text/x-python",
   "name": "python",
   "nbconvert_exporter": "python",
   "pygments_lexer": "ipython3",
   "version": "3.12.4"
  }
 },
 "nbformat": 4,
 "nbformat_minor": 2
}
