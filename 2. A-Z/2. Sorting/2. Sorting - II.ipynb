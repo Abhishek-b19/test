{
 "cells": [
  {
   "cell_type": "markdown",
   "metadata": {},
   "source": [
    "# Merge sort"
   ]
  },
  {
   "cell_type": "code",
   "execution_count": 4,
   "metadata": {},
   "outputs": [
    {
     "name": "stdout",
     "output_type": "stream",
     "text": [
      "Original List: [3, 1, 4, 2]\n",
      "\n",
      "Sorted List: [1, 2, 3, 4]\n"
     ]
    }
   ],
   "source": [
    "def merge(array1, array2):\n",
    "    combined = []\n",
    "    i = 0\n",
    "    j = 0\n",
    "    while i < len(array1) and j < len(array2): # comparing values of both list one by one \n",
    "        if array1[i] < array2[j]:\n",
    "            combined.append(array1[i])\n",
    "            i += 1\n",
    "        else:\n",
    "            combined.append(array2[j])\n",
    "            j += 1\n",
    "            \n",
    "    while i < len(array1):                  # when element in list2 is empty\n",
    "        combined.append(array1[i])\n",
    "        i += 1\n",
    "\n",
    "    while j < len(array2):                  # when element in list1 is empty\n",
    "        combined.append(array2[j])\n",
    "        j += 1\n",
    "\n",
    "    return combined\n",
    "\n",
    "\n",
    "def merge_sort(my_list):\n",
    "    if len(my_list) == 1:\n",
    "        return my_list\n",
    "    mid_index = int(len(my_list)/2)\n",
    "    left = merge_sort(my_list[:mid_index])\n",
    "    right = merge_sort(my_list[mid_index:])\n",
    "    \n",
    "    return merge(left, right)\n",
    "\n",
    "\n",
    "\n",
    "original_list = [3,1,4,2]\n",
    "\n",
    "sorted_list = merge_sort(original_list)\n",
    "\n",
    "print('Original List:', original_list)\n",
    "\n",
    "print('\\nSorted List:', sorted_list)\n",
    "\n"
   ]
  },
  {
   "cell_type": "markdown",
   "metadata": {},
   "source": [
    "# Quick Sort"
   ]
  },
  {
   "cell_type": "code",
   "execution_count": 5,
   "metadata": {},
   "outputs": [
    {
     "name": "stdout",
     "output_type": "stream",
     "text": [
      "[1, 2, 3, 4, 5, 6, 7]\n"
     ]
    }
   ],
   "source": [
    "def swap(my_list, index1, index2):\n",
    "    temp = my_list[index1]\n",
    "    my_list[index1] = my_list[index2]\n",
    "    my_list[index2] = temp\n",
    "\n",
    "\n",
    "def pivot(my_list, pivot_index, end_index):\n",
    "    swap_index = pivot_index\n",
    "\n",
    "    for i in range(pivot_index+1, end_index+1):\n",
    "        if my_list[i] < my_list[pivot_index]:\n",
    "            swap_index += 1\n",
    "            swap(my_list, swap_index, i)\n",
    "    swap(my_list, pivot_index, swap_index)\n",
    "    return swap_index\n",
    "\n",
    "\n",
    "def quick_sort_helper(my_list, left, right):\n",
    "    if left < right:\n",
    "        pivot_index = pivot(my_list, left, right)\n",
    "        quick_sort_helper(my_list, left, pivot_index-1)  \n",
    "        quick_sort_helper(my_list, pivot_index+1, right)       \n",
    "    return my_list\n",
    "    \n",
    "\n",
    "def quick_sort(my_list):\n",
    "    quick_sort_helper(my_list, 0, len(my_list)-1)\n",
    "\n",
    "\n",
    "my_list = [4,6,1,7,3,2,5]\n",
    "\n",
    "quick_sort(my_list)\n",
    "\n",
    "print(my_list)\n",
    "\n"
   ]
  }
 ],
 "metadata": {
  "kernelspec": {
   "display_name": "base",
   "language": "python",
   "name": "python3"
  },
  "language_info": {
   "codemirror_mode": {
    "name": "ipython",
    "version": 3
   },
   "file_extension": ".py",
   "mimetype": "text/x-python",
   "name": "python",
   "nbconvert_exporter": "python",
   "pygments_lexer": "ipython3",
   "version": "3.12.4"
  }
 },
 "nbformat": 4,
 "nbformat_minor": 2
}
