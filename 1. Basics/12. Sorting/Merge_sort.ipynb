{
 "cells": [
  {
   "cell_type": "markdown",
   "metadata": {},
   "source": [
    "# Merge sort"
   ]
  },
  {
   "cell_type": "code",
   "execution_count": 1,
   "metadata": {},
   "outputs": [
    {
     "name": "stdout",
     "output_type": "stream",
     "text": [
      "Original List: [3, 1, 4, 2]\n",
      "\n",
      "Sorted List: [1, 2, 3, 4]\n"
     ]
    }
   ],
   "source": [
    "def merge(array1, array2):\n",
    "    combined = []\n",
    "    i = 0\n",
    "    j = 0\n",
    "    while i < len(array1) and j < len(array2): # comparing values of both list one by one \n",
    "        if array1[i] < array2[j]:\n",
    "            combined.append(array1[i])\n",
    "            i += 1\n",
    "        else:\n",
    "            combined.append(array2[j])\n",
    "            j += 1\n",
    "            \n",
    "    while i < len(array1):                  # when element in list2 is empty\n",
    "        combined.append(array1[i])\n",
    "        i += 1\n",
    "\n",
    "    while j < len(array2):                  # when element in list1 is empty\n",
    "        combined.append(array2[j])\n",
    "        j += 1\n",
    "\n",
    "    return combined\n",
    "\n",
    "\n",
    "def merge_sort(my_list):\n",
    "    if len(my_list) == 1:\n",
    "        return my_list\n",
    "    mid_index = int(len(my_list)/2)\n",
    "    left = merge_sort(my_list[:mid_index])\n",
    "    right = merge_sort(my_list[mid_index:])\n",
    "    \n",
    "    return merge(left, right)\n",
    "\n",
    "\n",
    "\n",
    "original_list = [3,1,4,2]\n",
    "\n",
    "sorted_list = merge_sort(original_list)\n",
    "\n",
    "print('Original List:', original_list)\n",
    "\n",
    "print('\\nSorted List:', sorted_list)\n",
    "\n"
   ]
  },
  {
   "cell_type": "markdown",
   "metadata": {},
   "source": [
    "# Merge two LinkedList"
   ]
  },
  {
   "cell_type": "code",
   "execution_count": 3,
   "metadata": {},
   "outputs": [
    {
     "name": "stdout",
     "output_type": "stream",
     "text": [
      "1\n",
      "2\n",
      "3\n",
      "4\n",
      "5\n",
      "6\n",
      "7\n",
      "8\n"
     ]
    }
   ],
   "source": [
    "class Node:\n",
    "    def __init__(self, value):\n",
    "        self.value = value\n",
    "        self.next = None\n",
    "        \n",
    "\n",
    "class LinkedList:\n",
    "    def __init__(self, value):\n",
    "        new_node = Node(value)\n",
    "        self.head = new_node\n",
    "        self.tail = new_node\n",
    "        self.length = 1\n",
    "\n",
    "    def print_list(self):\n",
    "        temp = self.head\n",
    "        while temp is not None:\n",
    "            print(temp.value)\n",
    "            temp = temp.next\n",
    "        \n",
    "    def append(self, value):\n",
    "        new_node = Node(value)\n",
    "        if self.head is None:\n",
    "            self.head = new_node\n",
    "            self.tail = new_node\n",
    "        else:\n",
    "            self.tail.next = new_node\n",
    "            self.tail = new_node\n",
    "        self.length += 1\n",
    "\n",
    "    def merge(self, other_list):\n",
    "        other_head = other_list.head\n",
    "        dummy = Node(0)\n",
    "        current = dummy\n",
    "\n",
    "        while self.head is not None and other_head is not None:\n",
    "            if self.head.value < other_head.value:\n",
    "                current.next = self.head\n",
    "                self.head = self.head.next\n",
    "            else:\n",
    "                current.next = other_head\n",
    "                other_head = other_head.next\n",
    "            current = current.next\n",
    "\n",
    "        if self.head is not None:\n",
    "            current.next = self.head\n",
    "        else:\n",
    "            current.next = other_head\n",
    "            self.tail = other_list.tail\n",
    "\n",
    "        self.head = dummy.next\n",
    "        self.length += other_list.length\n",
    "    \n",
    "\n",
    "\n",
    "l1 = LinkedList(1)\n",
    "l1.append(3)\n",
    "l1.append(5)\n",
    "l1.append(7)\n",
    "\n",
    "\n",
    "l2 = LinkedList(2)\n",
    "l2.append(4)\n",
    "l2.append(6)\n",
    "l2.append(8)\n",
    "\n",
    "l1.merge(l2)\n",
    "\n",
    "l1.print_list()\n",
    "\n"
   ]
  }
 ],
 "metadata": {
  "kernelspec": {
   "display_name": "base",
   "language": "python",
   "name": "python3"
  },
  "language_info": {
   "codemirror_mode": {
    "name": "ipython",
    "version": 3
   },
   "file_extension": ".py",
   "mimetype": "text/x-python",
   "name": "python",
   "nbconvert_exporter": "python",
   "pygments_lexer": "ipython3",
   "version": "3.12.4"
  }
 },
 "nbformat": 4,
 "nbformat_minor": 2
}
