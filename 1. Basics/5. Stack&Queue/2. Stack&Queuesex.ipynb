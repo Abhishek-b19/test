{
 "cells": [
  {
   "cell_type": "markdown",
   "metadata": {},
   "source": [
    "# Stack implementation using list"
   ]
  },
  {
   "cell_type": "code",
   "execution_count": 10,
   "metadata": {},
   "outputs": [
    {
     "name": "stdout",
     "output_type": "stream",
     "text": [
      "Stack before pop():\n",
      "3\n",
      "2\n",
      "1\n",
      "\n",
      "Popped node:\n",
      "3\n",
      "\n",
      "Stack after pop():\n",
      "2\n",
      "1\n"
     ]
    }
   ],
   "source": [
    "class Stack:\n",
    "    def __init__(self):\n",
    "        self.stack_list = []\n",
    "\n",
    "    def print_stack(self):\n",
    "        for i in range(len(self.stack_list)-1, -1, -1):\n",
    "            print(self.stack_list[i])\n",
    "\n",
    "    def is_empty(self):\n",
    "        return len(self.stack_list) == 0\n",
    "\n",
    "    def peek(self):\n",
    "        if self.is_empty():\n",
    "            return None\n",
    "        else:\n",
    "            return self.stack_list[-1]\n",
    "\n",
    "    def size(self):\n",
    "        return len(self.stack_list)\n",
    "\n",
    "    def push(self, value):\n",
    "        self.stack_list.append(value)\n",
    "\n",
    "    def pop(self):\n",
    "        if self.is_empty():\n",
    "            return None\n",
    "        else:\n",
    "            return self.stack_list.pop()\n",
    "\n",
    "            \n",
    "            \n",
    "            \n",
    "my_stack = Stack()\n",
    "my_stack.push(1)\n",
    "my_stack.push(2)\n",
    "my_stack.push(3)\n",
    "\n",
    "print(\"Stack before pop():\")\n",
    "my_stack.print_stack()\n",
    "\n",
    "print(\"\\nPopped node:\")\n",
    "print(my_stack.pop())\n",
    "\n",
    "print(\"\\nStack after pop():\")\n",
    "my_stack.print_stack()\n"
   ]
  },
  {
   "cell_type": "markdown",
   "metadata": {},
   "source": [
    "# Parantheses Balanced"
   ]
  },
  {
   "cell_type": "code",
   "execution_count": 9,
   "metadata": {},
   "outputs": [
    {
     "data": {
      "text/plain": [
       "True"
      ]
     },
     "execution_count": 9,
     "metadata": {},
     "output_type": "execute_result"
    }
   ],
   "source": [
    "class Stack:\n",
    "    def __init__(self):\n",
    "        self.stack_list = []\n",
    "\n",
    "    def print_stack(self):\n",
    "        for i in range(len(self.stack_list)-1, -1, -1):\n",
    "            print(self.stack_list[i])\n",
    "\n",
    "    def is_empty(self):\n",
    "        return len(self.stack_list) == 0\n",
    "\n",
    "    def peek(self):\n",
    "        if self.is_empty():\n",
    "            return None\n",
    "        else:\n",
    "            return self.stack_list[-1]\n",
    "\n",
    "    def size(self):\n",
    "        return len(self.stack_list)\n",
    "\n",
    "    def push(self, value):\n",
    "        self.stack_list.append(value)\n",
    "\n",
    "    def pop(self):\n",
    "        if self.is_empty():\n",
    "            return None\n",
    "        else:\n",
    "            return self.stack_list.pop()\n",
    "\n",
    "def is_balanced_parentheses(parentheses):\n",
    "        stack = Stack()\n",
    "        for p in parentheses:\n",
    "            if p == '(':\n",
    "                stack.push(p)\n",
    "            elif p == ')':\n",
    "                if stack.is_empty() or stack.pop() != '(':\n",
    "                    return False\n",
    "        return stack.is_empty()\n",
    "\n",
    "\n",
    "is_balanced_parentheses('(((())))')\n",
    "\n",
    "\n"
   ]
  },
  {
   "cell_type": "markdown",
   "metadata": {},
   "source": [
    "# Reverse a String"
   ]
  },
  {
   "cell_type": "code",
   "execution_count": 11,
   "metadata": {},
   "outputs": [
    {
     "data": {
      "text/plain": [
       "'malayalaM'"
      ]
     },
     "execution_count": 11,
     "metadata": {},
     "output_type": "execute_result"
    }
   ],
   "source": [
    "class Stack:\n",
    "    def __init__(self):\n",
    "        self.stack_list = []\n",
    "        \n",
    "    def print_stack(self):\n",
    "        for i in range(len(self.stack_list)-1, -1, -1):\n",
    "            print(self.stack_list[i])\n",
    "            \n",
    "    def is_empty(self):\n",
    "        return len(self.stack_list) == 0\n",
    "\n",
    "    def peek(self):\n",
    "        if self.is_empty():\n",
    "            return None\n",
    "        else:\n",
    "            return self.stack_list[-1]\n",
    "\n",
    "    def size(self):\n",
    "        return len(self.stack_list)\n",
    "\n",
    "    def push(self, value):\n",
    "        self.stack_list.append(value)\n",
    "\n",
    "    def pop(self):\n",
    "        if self.is_empty():\n",
    "            return None\n",
    "        else:\n",
    "            return self.stack_list.pop()\n",
    "        \n",
    "        \n",
    "        \n",
    "def reverse_string(string):\n",
    "    stack = Stack()\n",
    "    reversed_string = \"\"\n",
    "\n",
    "    for char in string:\n",
    "        stack.push(char)\n",
    "\n",
    "    while not stack.is_empty():\n",
    "        reversed_string += stack.pop()\n",
    "\n",
    "    return reversed_string\n",
    "\n",
    "\n",
    "reverse_string(\"Malayalam\")\n"
   ]
  },
  {
   "cell_type": "markdown",
   "metadata": {},
   "source": [
    "# Sort the element "
   ]
  },
  {
   "cell_type": "code",
   "execution_count": 1,
   "metadata": {},
   "outputs": [
    {
     "name": "stdout",
     "output_type": "stream",
     "text": [
      "Stack before sort_stack():\n",
      "2\n",
      "4\n",
      "5\n",
      "1\n",
      "3\n",
      "\n",
      "Stack after sort_stack:\n",
      "1\n",
      "2\n",
      "3\n",
      "4\n",
      "5\n"
     ]
    }
   ],
   "source": [
    "class Stack:\n",
    "    def __init__(self):\n",
    "        self.stack_list = []\n",
    "\n",
    "    def print_stack(self):\n",
    "        for i in range(len(self.stack_list)-1, -1, -1):\n",
    "            print(self.stack_list[i])\n",
    "\n",
    "    def is_empty(self):\n",
    "        return len(self.stack_list) == 0\n",
    "\n",
    "    def peek(self):\n",
    "        if self.is_empty():\n",
    "            return None\n",
    "        else:\n",
    "            return self.stack_list[-1]\n",
    "\n",
    "    def size(self):\n",
    "        return len(self.stack_list)\n",
    "\n",
    "    def push(self, value):\n",
    "        self.stack_list.append(value)\n",
    "\n",
    "    def pop(self):\n",
    "        if self.is_empty():\n",
    "            return None\n",
    "        else:\n",
    "            return self.stack_list.pop()\n",
    "\n",
    "\n",
    "\n",
    "\n",
    "def sort_stack(stack):\n",
    "    additional_stack = Stack()\n",
    "\n",
    "    while not stack.is_empty():\n",
    "        temp = stack.pop()\n",
    "\n",
    "        while not additional_stack.is_empty() and additional_stack.peek() > temp:\n",
    "            stack.push(additional_stack.pop())\n",
    "\n",
    "        additional_stack.push(temp)\n",
    "\n",
    "    while not additional_stack.is_empty():\n",
    "        stack.push(additional_stack.pop())\n",
    "\n",
    "\n",
    "\n",
    "\n",
    "\n",
    "my_stack = Stack()\n",
    "my_stack.push(3)\n",
    "my_stack.push(1)\n",
    "my_stack.push(5)\n",
    "my_stack.push(4)\n",
    "my_stack.push(2)\n",
    "\n",
    "print(\"Stack before sort_stack():\")\n",
    "my_stack.print_stack()\n",
    "\n",
    "sort_stack(my_stack)\n",
    "\n",
    "print(\"\\nStack after sort_stack:\")\n",
    "my_stack.print_stack()\n",
    "\n",
    "\n"
   ]
  },
  {
   "cell_type": "markdown",
   "metadata": {},
   "source": [
    "# Queue from 2 Stack"
   ]
  },
  {
   "cell_type": "code",
   "execution_count": 19,
   "metadata": {},
   "outputs": [
    {
     "name": "stdout",
     "output_type": "stream",
     "text": [
      "Front of the queue: 1\n",
      "Is the queue empty? False\n",
      "Front of the queue: 1\n",
      "Queue: [1, 2, 3, 4]\n"
     ]
    }
   ],
   "source": [
    "class MyQueue:\n",
    "    def __init__(self):\n",
    "        self.stack1 = []\n",
    "        self.stack2 = []\n",
    "        \n",
    "    def enqueue(self, value):\n",
    "        while len(self.stack1) > 0:\n",
    "            self.stack2.append(self.stack1.pop())\n",
    "        self.stack1.append(value)\n",
    "        while len(self.stack2) > 0:\n",
    "            self.stack1.append(self.stack2.pop())\n",
    "\n",
    "\n",
    "    def peek(self):\n",
    "        return self.stack1[-1]\n",
    "\n",
    "    def is_empty(self):\n",
    "        return len(self.stack1) == 0\n",
    "        \n",
    "    def print_queue(self):\n",
    "        print(\"Queue:\", list(reversed(self.stack1)))\n",
    "\n",
    "# Create a new queue\n",
    "q = MyQueue()\n",
    "\n",
    "# Enqueue some values\n",
    "q.enqueue(1)\n",
    "q.enqueue(2)\n",
    "q.enqueue(3)\n",
    "\n",
    "\n",
    "# Output the front of the queue\n",
    "print(\"Front of the queue:\", q.peek())\n",
    "\n",
    "# Check if the queue is empty\n",
    "print(\"Is the queue empty?\", q.is_empty())\n",
    "\n",
    "q.enqueue(4)\n",
    "print(\"Front of the queue:\", q.peek())\n",
    "q.print_queue()\n",
    "\n"
   ]
  },
  {
   "cell_type": "markdown",
   "metadata": {},
   "source": [
    "# Deque using stack"
   ]
  },
  {
   "cell_type": "code",
   "execution_count": 13,
   "metadata": {},
   "outputs": [
    {
     "name": "stdout",
     "output_type": "stream",
     "text": [
      "Front of the queue: 1\n",
      "Dequeued value: 1\n",
      "Dequeued value: 2\n",
      "Front of the queue: 3\n",
      "Dequeued value: 3\n",
      "Dequeued value: 4\n",
      "Is the queue empty? True\n",
      "Dequeued value from empty queue: None\n"
     ]
    }
   ],
   "source": [
    "class MyQueue:\n",
    "    def __init__(self):\n",
    "        self.stack1 = []\n",
    "        self.stack2 = []\n",
    "        \n",
    "    def enqueue(self, value):\n",
    "        while len(self.stack1) > 0:\n",
    "            self.stack2.append(self.stack1.pop())\n",
    "        self.stack1.append(value)\n",
    "        while len(self.stack2) > 0:\n",
    "            self.stack1.append(self.stack2.pop())\n",
    "\n",
    "    def dequeue(self):\n",
    "        if self.is_empty():\n",
    "            return None\n",
    "        else:\n",
    "            return self.stack1.pop()\n",
    "\n",
    "    def peek(self):\n",
    "        return self.stack1[-1]\n",
    "\n",
    "    def is_empty(self):\n",
    "        return len(self.stack1) == 0\n",
    "        \n",
    "        \n",
    "\n",
    "# Create a new queue\n",
    "q = MyQueue()\n",
    "\n",
    "# Enqueue some values\n",
    "q.enqueue(1)\n",
    "q.enqueue(2)\n",
    "q.enqueue(3)\n",
    "\n",
    "# Output the front of the queue\n",
    "print(\"Front of the queue:\", q.peek())\n",
    "\n",
    "# Dequeue some values\n",
    "print(\"Dequeued value:\", q.dequeue())\n",
    "print(\"Dequeued value:\", q.dequeue())\n",
    "\n",
    "# Enqueue another value\n",
    "q.enqueue(4)\n",
    "\n",
    "# Output the front of the queue again\n",
    "print(\"Front of the queue:\", q.peek())\n",
    "\n",
    "# Dequeue all remaining values\n",
    "print(\"Dequeued value:\", q.dequeue())\n",
    "print(\"Dequeued value:\", q.dequeue())\n",
    "\n",
    "# Check if the queue is empty\n",
    "print(\"Is the queue empty?\", q.is_empty())\n",
    "\n",
    "# Dequeue from an empty queue and check if it returns None\n",
    "print(\"Dequeued value from empty queue:\", q.dequeue())\n",
    "\n",
    "\n"
   ]
  }
 ],
 "metadata": {
  "kernelspec": {
   "display_name": "Python 3",
   "language": "python",
   "name": "python3"
  },
  "language_info": {
   "codemirror_mode": {
    "name": "ipython",
    "version": 3
   },
   "file_extension": ".py",
   "mimetype": "text/x-python",
   "name": "python",
   "nbconvert_exporter": "python",
   "pygments_lexer": "ipython3",
   "version": "3.12.4"
  }
 },
 "nbformat": 4,
 "nbformat_minor": 2
}
