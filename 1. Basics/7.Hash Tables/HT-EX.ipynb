{
 "cells": [
  {
   "cell_type": "markdown",
   "metadata": {},
   "source": [
    "### Find duplicate values "
   ]
  },
  {
   "cell_type": "code",
   "execution_count": 1,
   "metadata": {},
   "outputs": [
    {
     "name": "stdout",
     "output_type": "stream",
     "text": [
      "Dulpicate elements in the list are: [1, 2, 3, 5]\n"
     ]
    }
   ],
   "source": [
    "def find_duplicates(nums):\n",
    "    num_counts = {}\n",
    "    for num in nums:\n",
    "        num_counts[num] = num_counts.get(num, 0) + 1\n",
    "\n",
    "    duplicates = []\n",
    "    for num, count in num_counts.items():\n",
    "        if count > 1:\n",
    "            duplicates.append(num)\n",
    "\n",
    "    return duplicates\n",
    "\n",
    "\n",
    "dup =find_duplicates([1,2,3,4,5,1,2,3,5])\n",
    "print(f\"Dulpicate elements in the list are: {dup}\")"
   ]
  },
  {
   "cell_type": "markdown",
   "metadata": {},
   "source": [
    "### First non-repeating char (Sol 1)"
   ]
  },
  {
   "cell_type": "code",
   "execution_count": 3,
   "metadata": {},
   "outputs": [
    {
     "data": {
      "text/plain": [
       "'d'"
      ]
     },
     "execution_count": 3,
     "metadata": {},
     "output_type": "execute_result"
    }
   ],
   "source": [
    "def first_non_repeating_char(string):\n",
    "    my_dict = {}\n",
    "\n",
    "    for letter in string:\n",
    "        if letter in my_dict:\n",
    "            my_dict[letter] += 1\n",
    "        else:\n",
    "            my_dict[letter] = 1\n",
    "            \n",
    "    for i in my_dict:\n",
    "        if my_dict[i] == 1:\n",
    "            return i\n",
    "        \n",
    "first_non_repeating_char(\"aabbccd\")"
   ]
  },
  {
   "cell_type": "markdown",
   "metadata": {},
   "source": [
    "### Sol 2\n"
   ]
  },
  {
   "cell_type": "code",
   "execution_count": 4,
   "metadata": {},
   "outputs": [
    {
     "data": {
      "text/plain": [
       "'d'"
      ]
     },
     "execution_count": 4,
     "metadata": {},
     "output_type": "execute_result"
    }
   ],
   "source": [
    "\n",
    "def first_non_repeating_char(string):\n",
    "    char_counts = {}\n",
    "    for char in string:\n",
    "        char_counts[char] = char_counts.get(char, 0) + 1\n",
    "    for char in string:\n",
    "        if char_counts[char] == 1:\n",
    "            return char\n",
    "    return None\n",
    "\n",
    "first_non_repeating_char(\"aabbccd\")"
   ]
  },
  {
   "cell_type": "markdown",
   "metadata": {},
   "source": [
    "### Separate anagrams"
   ]
  },
  {
   "cell_type": "code",
   "execution_count": 13,
   "metadata": {},
   "outputs": [
    {
     "data": {
      "text/plain": [
       "[['eat', 'tea', 'ate'], ['tan', 'nat'], ['bat']]"
      ]
     },
     "execution_count": 13,
     "metadata": {},
     "output_type": "execute_result"
    }
   ],
   "source": [
    "def group_anagrams(strings):\n",
    "    anagram_groups = {}\n",
    "    for string in strings:\n",
    "        canonical = ''.join(sorted(string))    # sort on the basis of ASCII\n",
    "        if canonical in anagram_groups:\n",
    "            anagram_groups[canonical].append(string)\n",
    "        else:\n",
    "            anagram_groups[canonical] = [string]\n",
    "    return list(anagram_groups.values())\n",
    "\n",
    "group_anagrams([\"eat\", \"tea\", \"tan\", \"ate\", \"nat\", \"bat\"])"
   ]
  },
  {
   "cell_type": "markdown",
   "metadata": {},
   "source": [
    "### Problem: Two Sum\n",
    "Given an array of integers nums and a target integer target, find the indices of two numbers in the array that add up to the target.\n",
    "\n",
    "The main challenge here is to implement this function in one pass through the array. This means you should not iterate over the array more than once. Therefore, your solution should have a time complexity of O(n), where n is the number of elements in nums."
   ]
  },
  {
   "cell_type": "code",
   "execution_count": 15,
   "metadata": {},
   "outputs": [
    {
     "data": {
      "text/plain": [
       "[1, 2]"
      ]
     },
     "execution_count": 15,
     "metadata": {},
     "output_type": "execute_result"
    }
   ],
   "source": [
    "def two_sum(nums, target):\n",
    "    num_map = {}\n",
    "    for i, num in enumerate(nums):\n",
    "        complement = target - num\n",
    "        if complement in num_map:\n",
    "            return [num_map[complement], i]\n",
    "        num_map[num] = i\n",
    "    return []\n",
    "\n",
    "two_sum([1,2,3,1],5)"
   ]
  },
  {
   "cell_type": "markdown",
   "metadata": {},
   "source": [
    "## Subarray Sum \n",
    "Given an array of integers nums and a target integer target, write a Python function called subarray_sum that finds the indices of a contiguous subarray in nums that add up to the target sum using a hash table (dictionary)."
   ]
  },
  {
   "cell_type": "code",
   "execution_count": 16,
   "metadata": {},
   "outputs": [
    {
     "data": {
      "text/plain": [
       "[1, 3]"
      ]
     },
     "execution_count": 16,
     "metadata": {},
     "output_type": "execute_result"
    }
   ],
   "source": [
    "def subarray_sum(nums, target):\n",
    "    sum_index = {0: -1}\n",
    "    current_sum = 0\n",
    "    for i, num in enumerate(nums):\n",
    "        current_sum += num\n",
    "        if current_sum - target in sum_index:\n",
    "            return [sum_index[current_sum - target] + 1, i]\n",
    "        sum_index[current_sum] = i\n",
    "    return []\n",
    "\n",
    "subarray_sum([1,2,3,4,5],9)   # 2+3+4 =9 therefore, [1,3]"
   ]
  },
  {
   "cell_type": "markdown",
   "metadata": {},
   "source": [
    "## Set\n",
    "\n",
    "Sets are similar to dictionaries except that instead of having key/value pairs they only have the keys but not the values.\n",
    "\n",
    "Like dictionaries, they are implemented using a hash table (which is why we are covering them here).\n",
    "\n",
    "Sets can only contain unique elements (meaning that duplicates are not allowed). \n",
    "\n",
    "They are useful for various operations such as finding the distinct elements in a collection and performing set operations such as union and intersection.\n",
    "\n",
    "They are defined by either using curly braces {} or the built-in set() function"
   ]
  },
  {
   "cell_type": "markdown",
   "metadata": {},
   "source": [
    "### Set: Remove Duplicates "
   ]
  },
  {
   "cell_type": "code",
   "execution_count": 1,
   "metadata": {},
   "outputs": [
    {
     "name": "stdout",
     "output_type": "stream",
     "text": [
      "[1, 2, 3, 4, 5, 6, 7, 8, 9]\n"
     ]
    }
   ],
   "source": [
    "def remove_duplicates(my_list): \n",
    "    # Convert the list to a set and then back to a list to remove duplicates \n",
    "    new_list = list(set(my_list)) \n",
    "    return new_list\n",
    "\n",
    "\n",
    "\n",
    "my_list = [1, 2, 3, 4, 1, 2, 5, 6, 7, 3, 4, 8, 9, 5]\n",
    "new_list = remove_duplicates(my_list)\n",
    "print(new_list)\n"
   ]
  },
  {
   "cell_type": "markdown",
   "metadata": {},
   "source": [
    "## If duplicate value return False"
   ]
  },
  {
   "cell_type": "code",
   "execution_count": 2,
   "metadata": {},
   "outputs": [
    {
     "name": "stdout",
     "output_type": "stream",
     "text": [
      "True\n",
      "False\n",
      "True\n",
      "True\n",
      "False\n"
     ]
    }
   ],
   "source": [
    "def has_unique_chars(str1):\n",
    "    dict1 = {}\n",
    "    for val in str1:\n",
    "        dict1[val] = dict1.get(val,0)+1\n",
    "        \n",
    "    for key,value in dict1.items():\n",
    "        if value > 1:\n",
    "            return False\n",
    "        \n",
    "    return True\n",
    "\n",
    "\n",
    "\n",
    "\n",
    "print(has_unique_chars('abcdefg')) # should return True\n",
    "print(has_unique_chars('hello')) # should return False\n",
    "print(has_unique_chars('')) # should return True\n",
    "print(has_unique_chars('0123456789')) # should return True\n",
    "print(has_unique_chars('abacadaeaf')) # should return False\n"
   ]
  },
  {
   "cell_type": "code",
   "execution_count": 3,
   "metadata": {},
   "outputs": [
    {
     "name": "stdout",
     "output_type": "stream",
     "text": [
      "True\n",
      "False\n",
      "True\n",
      "True\n",
      "False\n"
     ]
    }
   ],
   "source": [
    "def has_unique_chars(string):\n",
    "    char_set = set()\n",
    "    for char in string:\n",
    "        if char in char_set:\n",
    "            return False\n",
    "        char_set.add(char)\n",
    "    return True\n",
    "\n",
    "\n",
    "print(has_unique_chars('abcdefg')) # should return True\n",
    "print(has_unique_chars('hello')) # should return False\n",
    "print(has_unique_chars('')) # should return True\n",
    "print(has_unique_chars('0123456789')) # should return True\n",
    "print(has_unique_chars('abacadaeaf')) # should return False"
   ]
  },
  {
   "cell_type": "markdown",
   "metadata": {},
   "source": [
    "## Find pairs\n",
    "\n",
    "You are given two lists of integers, arr1 and arr2, and a target integer value, target. Your task is to find all pairs of numbers (one from arr1 and one from arr2) whose sum equals target.\n",
    "\n",
    "Example:\n",
    "arr1 = [1, 2, 3]\n",
    "arr2 = [4, 5, 6]\n",
    "target = 9\n",
    " \n",
    "pairs = find_pairs(arr1, arr2, target)\n",
    "\n",
    "print (pairs)\n",
    "\n",
    "Expected output: [(3, 6)]\n",
    "\n",
    "Explanation: There's only one pair that adds up to 9: 3 from arr1 and 6 from arr2."
   ]
  },
  {
   "cell_type": "code",
   "execution_count": 17,
   "metadata": {},
   "outputs": [
    {
     "name": "stdout",
     "output_type": "stream",
     "text": [
      "[(5, 2), (3, 4), (1, 6)]\n"
     ]
    }
   ],
   "source": [
    "\n",
    "def find_pairs(arr1, arr2, target):\n",
    "    set1 = set(arr1) # Convert arr1 to a set for O(1) lookup\n",
    "    pairs = []\n",
    "    for num in arr2:\n",
    "        complement = target - num\n",
    "        if complement in set1:\n",
    "            pairs.append((complement, num))\n",
    "    return pairs\n",
    "\n",
    "\n",
    "\n",
    "\n",
    "\n",
    "arr1 = [1, 2, 3, 4, 5]\n",
    "arr2 = [2, 4, 6, 8, 10]\n",
    "target = 7\n",
    "\n",
    "pairs = find_pairs(arr1, arr2, target)\n",
    "print (pairs)\n"
   ]
  },
  {
   "cell_type": "markdown",
   "metadata": {},
   "source": [
    "## Set: Longest Consecutive Sequence (Interview Question)\n",
    "Given an unsorted array of integers, write a function that finds the length of the  longest_consecutive_sequence (i.e., sequence of integers in which each element is one greater than the previous element).\n",
    "\n",
    "\n",
    "\n",
    "Example:\n",
    "\n",
    "\n",
    "\n",
    "Input: nums = [100, 4, 200, 1, 3, 2]\n",
    "\n",
    "Output: 4\n",
    "\n",
    "Explanation: The longest consecutive sequence in the input array is [4, 3, 2, 1], and its length is 4.\n"
   ]
  },
  {
   "cell_type": "code",
   "execution_count": 20,
   "metadata": {},
   "outputs": [
    {
     "name": "stdout",
     "output_type": "stream",
     "text": [
      "4\n"
     ]
    }
   ],
   "source": [
    "def longest_consecutive_sequence(nums):\n",
    "    # Create a set to keep track of the numbers in the array\n",
    "    num_set = set(nums)\n",
    "    longest_sequence = 0\n",
    "    \n",
    "    # Loop through the numbers in the nums array\n",
    "    for num in nums:\n",
    "        # Check if the current number is the start of a new sequence\n",
    "        if num - 1 not in num_set:\n",
    "            current_num = num\n",
    "            current_sequence = 1\n",
    "            \n",
    "            # Keep incrementing the current number until the end of the sequence is reached(runs for 1 only 1-1 = 0  and from there it increments all the way upto 4)\n",
    "            while current_num + 1 in num_set:\n",
    "                current_num += 1\n",
    "                current_sequence += 1\n",
    "            \n",
    "            # Update the longest sequence if the current sequence is longer\n",
    "            longest_sequence = max(longest_sequence, current_sequence)\n",
    "    \n",
    "    return longest_sequence\n",
    "\n",
    "\n",
    "\n",
    "\n",
    "print( longest_consecutive_sequence([100, 4, 200, 1, 3, 2]) )\n"
   ]
  }
 ],
 "metadata": {
  "kernelspec": {
   "display_name": "base",
   "language": "python",
   "name": "python3"
  },
  "language_info": {
   "codemirror_mode": {
    "name": "ipython",
    "version": 3
   },
   "file_extension": ".py",
   "mimetype": "text/x-python",
   "name": "python",
   "nbconvert_exporter": "python",
   "pygments_lexer": "ipython3",
   "version": "3.12.4"
  }
 },
 "nbformat": 4,
 "nbformat_minor": 2
}
