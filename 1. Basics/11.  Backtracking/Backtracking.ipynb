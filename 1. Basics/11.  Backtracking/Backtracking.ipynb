{
 "cells": [
  {
   "cell_type": "markdown",
   "metadata": {},
   "source": [
    "**Definition:**\n",
    "Backtracking involves exploring all potential solutions for a problem by incrementally building candidates to the solutions and abandoning each candidate (\"backtracking\") as soon as it is determined that the candidate cannot possibly lead to a valid solution."
   ]
  },
  {
   "cell_type": "markdown",
   "metadata": {},
   "source": [
    "Q1)Search for Word\n",
    "Given a 2-D grid of characters board and a string word, return true if the word is present in the grid, otherwise return false.\n",
    "\n",
    "For the word to be present it must be possible to form it with a path in the board with horizontally or vertically neighboring cells. The same cell may not be used more than once in a word.\n",
    "\n",
    "\n",
    "Input: \n",
    "board = [\n",
    "  [\"A\",\"B\",\"C\",\"D\"],\n",
    "  [\"S\",\"A\",\"A\",\"T\"],\n",
    "  [\"A\",\"C\",\"A\",\"E\"]\n",
    "],\n",
    "word = \"CAT\"\n",
    "\n",
    "Output: true"
   ]
  },
  {
   "cell_type": "code",
   "execution_count": 1,
   "metadata": {},
   "outputs": [
    {
     "name": "stdout",
     "output_type": "stream",
     "text": [
      "True\n"
     ]
    }
   ],
   "source": [
    "class Solution:\n",
    "    def exist(self, board, word):\n",
    "        ROWS, COLS = len(board), len(board[0])\n",
    "        path = set()\n",
    "\n",
    "        def dfs(r, c, i):\n",
    "            if i == len(word):\n",
    "                return True\n",
    "            if (r < 0 or r >= ROWS or c < 0 or c >= COLS or word[i] != board[r][c] or (r, c) in path):\n",
    "                return False\n",
    "            \n",
    "            path.add((r, c))\n",
    "            \n",
    "            res = (dfs(r + 1, c, i + 1) or  # Move down\n",
    "                dfs(r - 1, c, i + 1) or  # Move up\n",
    "                dfs(r, c + 1, i + 1) or  # Move right\n",
    "                dfs(r, c - 1, i + 1))    # Move left\n",
    "            \n",
    "            path.remove((r, c))\n",
    "            return res\n",
    "\n",
    "        for r in range(ROWS):\n",
    "            for c in range(COLS):\n",
    "                if dfs(r, c, 0):\n",
    "                    return True\n",
    "        \n",
    "        return False\n",
    "\n",
    "# Main function to run the code\n",
    "def main():\n",
    "    solution = Solution()\n",
    "    board = [\n",
    "        [\"A\", \"B\", \"C\", \"D\"],\n",
    "        [\"S\", \"A\", \"A\", \"T\"],\n",
    "        [\"A\", \"C\", \"A\", \"E\"]\n",
    "    ]\n",
    "    word = \"CAT\"\n",
    "    result = solution.exist(board, word)\n",
    "    print(result)  # Expected output: True\n",
    "\n",
    "if __name__ == \"__main__\":\n",
    "    main()\n"
   ]
  }
 ],
 "metadata": {
  "kernelspec": {
   "display_name": "base",
   "language": "python",
   "name": "python3"
  },
  "language_info": {
   "codemirror_mode": {
    "name": "ipython",
    "version": 3
   },
   "file_extension": ".py",
   "mimetype": "text/x-python",
   "name": "python",
   "nbconvert_exporter": "python",
   "pygments_lexer": "ipython3",
   "version": "3.12.4"
  }
 },
 "nbformat": 4,
 "nbformat_minor": 2
}
