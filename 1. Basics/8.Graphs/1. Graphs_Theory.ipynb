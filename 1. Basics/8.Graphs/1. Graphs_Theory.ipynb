{
 "cells": [
  {
   "cell_type": "markdown",
   "metadata": {},
   "source": [
    "# Graphs"
   ]
  },
  {
   "cell_type": "markdown",
   "metadata": {},
   "source": [
    "In Data Structures and Algorithms (DSA), a **graph** is a collection of nodes (or vertices) and edges that connect pairs of nodes. Graphs are used to represent and solve problems involving networks of interconnected objects. Each node represents an object, and each edge represents a connection or relationship between two objects. Graphs can be classified as directed or undirected, and weighted or unweighted, based on the nature of the edges and their attributes.\n",
    "\n",
    "- **Vertices (or Nodes)**: The fundamental units or points in a graph.\n",
    "- **Edges**: The connections between the vertices.\n",
    "\n",
    "**Types of Graphs**:\n",
    "1. **Undirected Graph**: Edges have no direction. The connection between two nodes goes both ways.\n",
    "2. **Directed Graph (Digraph)**: Edges have a direction, indicating a one-way relationship.\n",
    "3. **Weighted Graph**: Edges have weights, representing the cost or distance between nodes.\n",
    "4. **Unweighted Graph**: Edges do not have weights.\n",
    "\n",
    "Graphs are used in various applications like social networks, transportation networks, and web page linking."
   ]
  },
  {
   "cell_type": "markdown",
   "metadata": {},
   "source": [
    "## Adjacency Matrix\n",
    "\n",
    "An adjacency matrix is a way of representing a graph using a 2-dimensional array (matrix). It is particularly useful for dense graphs where the number of edges is close to the maximum number of possible edges. The matrix is used to store information about the edges between the vertices of the graph.\n",
    "\n",
    "*refer to img 1*"
   ]
  },
  {
   "cell_type": "markdown",
   "metadata": {},
   "source": [
    "## Adjacency List\n",
    "\n",
    "An adjacency list is a way of representing a graph using a collection of lists. It is particularly useful for sparse graphs where the number of edges is much less than the maximum possible number of edges.\n",
    "\n",
    "*refer to img 2*"
   ]
  },
  {
   "cell_type": "markdown",
   "metadata": {},
   "source": [
    "## Big O\n",
    "\n",
    "a) Space complexity for adjacency matrix  - O(|V|^2)\n",
    "\n",
    "b) Space complexity for adjacency list  - O(|V| + |E|)\n",
    "\n",
    "**Adding a vertex, joining just adding**\n",
    "\n",
    "a) Adjacency matrix : O(|V|^2)\n",
    "\n",
    "b) Adjacency list : O(1)\n",
    "\n",
    "**Connecting vertex using edge**\n",
    "\n",
    "a) Adjacency matrix : O(1)\n",
    "\n",
    "b) Adjacency list : O(1)\n",
    "\n",
    "**Removing an edge**\n",
    "\n",
    "a) Adjacency matrix : O(1)\n",
    "\n",
    "b) Adjacency list : O(|E|)\n",
    "\n",
    "**Removing a vertex**\n",
    "\n",
    "a) Adjacency matrix : O(|V|^2)\n",
    "\n",
    "b) Adjacency list : O(|V| + |E|)\n",
    "\n"
   ]
  },
  {
   "cell_type": "markdown",
   "metadata": {},
   "source": []
  }
 ],
 "metadata": {
  "language_info": {
   "name": "python"
  }
 },
 "nbformat": 4,
 "nbformat_minor": 2
}
