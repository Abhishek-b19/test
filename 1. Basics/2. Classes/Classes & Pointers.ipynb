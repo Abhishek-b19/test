{
 "cells": [
  {
   "cell_type": "markdown",
   "metadata": {},
   "source": [
    "# Classes"
   ]
  },
  {
   "cell_type": "code",
   "execution_count": 2,
   "metadata": {},
   "outputs": [
    {
     "name": "stdout",
     "output_type": "stream",
     "text": [
      "Cookie one is green\n",
      "Cookie two is blue\n",
      "\n",
      "Cookie one is now yellow\n",
      "Cookie two is still blue\n"
     ]
    }
   ],
   "source": [
    "class Cookie:\n",
    "    def __init__(self, color):\n",
    "        self.color = color\n",
    "\n",
    "    def get_color(self):\n",
    "        return self.color\n",
    "\n",
    "    def set_color(self, color):\n",
    "        self.color = color\n",
    "\n",
    "\n",
    "cookie_one = Cookie('green')\n",
    "cookie_two = Cookie('blue')\n",
    "\n",
    "print('Cookie one is', cookie_one.get_color())\n",
    "print('Cookie two is', cookie_two.get_color())\n",
    "\n",
    "cookie_one.set_color('yellow')\n",
    "\n",
    "print('\\nCookie one is now', cookie_one.get_color())\n",
    "print('Cookie two is still', cookie_two.get_color())\n"
   ]
  },
  {
   "cell_type": "markdown",
   "metadata": {},
   "source": [
    "# Pointers"
   ]
  },
  {
   "cell_type": "code",
   "execution_count": 3,
   "metadata": {},
   "outputs": [
    {
     "name": "stdout",
     "output_type": "stream",
     "text": [
      "Before num2 value is updated:\n",
      "num1 = 11\n",
      "num2 = 11\n",
      "\n",
      "num1 points to: 140710413409016\n",
      "num2 points to: 140710413409016\n",
      "\n",
      "After num2 value is updated:\n",
      "num1 = 11\n",
      "num2 = 22\n",
      "\n",
      "num1 points to: 140710413409016\n",
      "num2 points to: 140710413409368\n"
     ]
    }
   ],
   "source": [
    "num1 = 11\n",
    "\n",
    "num2 = num1\n",
    "\n",
    "print(\"Before num2 value is updated:\")\n",
    "print(\"num1 =\", num1)\n",
    "print(\"num2 =\", num2)\n",
    "\n",
    "print(\"\\nnum1 points to:\", id(num1))\n",
    "print(\"num2 points to:\", id(num2)) \n",
    "\n",
    "num2 = 22 \n",
    "\n",
    "print(\"\\nAfter num2 value is updated:\")\n",
    "print(\"num1 =\", num1)\n",
    "print(\"num2 =\", num2) \n",
    "\n",
    "print(\"\\nnum1 points to:\", id(num1))\n",
    "print(\"num2 points to:\", id(num2))"
   ]
  },
  {
   "cell_type": "markdown",
   "metadata": {},
   "source": [
    "Unlike int if we apply same operation in dict values changes and both still point to same value."
   ]
  },
  {
   "cell_type": "code",
   "execution_count": 4,
   "metadata": {},
   "outputs": [
    {
     "name": "stdout",
     "output_type": "stream",
     "text": [
      "Before dict2 value is updated:\n",
      "dict1 = {'values': 12}\n",
      "dict2 = {'values': 12}\n",
      "\n",
      "num1 points to: 3234650082176\n",
      "num2 points to: 3234650082176\n",
      "\n",
      "After dict2 value is updated:\n",
      "dict1 = {'values': 22}\n",
      "dict2 = {'values': 22}\n",
      "\n",
      "num1 points to: 3234650082176\n",
      "num2 points to: 3234650082176\n"
     ]
    }
   ],
   "source": [
    "dict1 = {'values' : 12}\n",
    "\n",
    "dict2 = dict1\n",
    "\n",
    "print(\"Before dict2 value is updated:\")\n",
    "print(\"dict1 =\", dict1)\n",
    "print(\"dict2 =\", dict2)\n",
    "\n",
    "print(\"\\nnum1 points to:\", id(dict1))\n",
    "print(\"num2 points to:\", id(dict2)) \n",
    "\n",
    "dict2['values'] = 22 \n",
    "\n",
    "print(\"\\nAfter dict2 value is updated:\")\n",
    "print(\"dict1 =\", dict1)\n",
    "print(\"dict2 =\", dict2) \n",
    "\n",
    "print(\"\\nnum1 points to:\", id(dict1))\n",
    "print(\"num2 points to:\", id(dict2))"
   ]
  }
 ],
 "metadata": {
  "kernelspec": {
   "display_name": "Python 3",
   "language": "python",
   "name": "python3"
  },
  "language_info": {
   "codemirror_mode": {
    "name": "ipython",
    "version": 3
   },
   "file_extension": ".py",
   "mimetype": "text/x-python",
   "name": "python",
   "nbconvert_exporter": "python",
   "pygments_lexer": "ipython3",
   "version": "3.12.3"
  }
 },
 "nbformat": 4,
 "nbformat_minor": 2
}
