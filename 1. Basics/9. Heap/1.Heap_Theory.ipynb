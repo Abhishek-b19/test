{
 "cells": [
  {
   "cell_type": "markdown",
   "metadata": {},
   "source": [
    "# Heaps"
   ]
  },
  {
   "cell_type": "markdown",
   "metadata": {},
   "source": [
    "Heaps are of 2 types - max and min.\n",
    "\n",
    "In a max heap max value is at top and its descendents are always below it.\n",
    "\n",
    "A heap is complete if its filled from left to right *Refer img 1,2 & 3*"
   ]
  },
  {
   "cell_type": "markdown",
   "metadata": {},
   "source": [
    "We store heap in form of a list and leave the first idx blank for make retrieving operation of parent child easier. *Refer img 4*\n",
    "\n",
    "Operation:\n",
    "\n",
    "**Child from Parent: -**\n",
    "\n",
    "left_child = 2 * parent_idx\n",
    "\n",
    "right_child = 2 * parent_idx + 1\n",
    "\n",
    "**Parent from child: -**\n",
    "\n",
    "parent_idx = child_idx/2"
   ]
  },
  {
   "cell_type": "markdown",
   "metadata": {},
   "source": [
    "Height of a heap is logn so 8 nodes so height will be 3"
   ]
  },
  {
   "cell_type": "markdown",
   "metadata": {},
   "source": [
    "# Big O"
   ]
  },
  {
   "cell_type": "markdown",
   "metadata": {},
   "source": [
    "Remove and insert in Heap are always equal to height that's logn "
   ]
  }
 ],
 "metadata": {
  "language_info": {
   "name": "python"
  }
 },
 "nbformat": 4,
 "nbformat_minor": 2
}
